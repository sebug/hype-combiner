{
  "cells": [
    {
      "cell_type": "markdown",
      "metadata": {
        "id": "view-in-github",
        "colab_type": "text"
      },
      "source": [
        "<a href=\"https://colab.research.google.com/github/sebug/hype-combiner/blob/main/LinkedInLearning/leprogramme.ipynb\" target=\"_parent\"><img src=\"https://colab.research.google.com/assets/colab-badge.svg\" alt=\"Open In Colab\"/></a>"
      ]
    },
    {
      "cell_type": "markdown",
      "source": [
        "# The Challenge\n",
        "Have a look at [Le Programme](https://leprogramme.ch/) - this is an events agenda for Geneva. We want to query it using natural language. The idea is to construct the search URL, and let you go there, but only if we constructed something valid. We can double check the combination between events returned and search query by filtering the full list as well - listing the events on the main page that match, and then finding a search clause that gives the most similar results.\n",
        "\n",
        "I don't know whether this works yet, and will be exploring a lot."
      ],
      "metadata": {
        "id": "ufC46UFeLvqB"
      }
    },
    {
      "cell_type": "markdown",
      "source": [
        "The first step is to determine the current week of the year. We use this to get the events we will train on."
      ],
      "metadata": {
        "id": "UoFgAXY1OrLF"
      }
    },
    {
      "cell_type": "code",
      "source": [
        "import datetime\n",
        "current_week = datetime.date.today().isocalendar().week\n",
        "current_year = datetime.date.today().isocalendar().year\n",
        "current_week_url = 'https://leprogramme.ch/agenda-culturel-de-la-semaine/Vaud/' + str(current_year) + '/' + str(current_week)\n",
        "current_week_url"
      ],
      "metadata": {
        "id": "bIMjC0JrPF12",
        "outputId": "95ee6c44-10bc-41ba-89a7-b0d0c80cbfe9",
        "colab": {
          "base_uri": "https://localhost:8080/",
          "height": 35
        }
      },
      "execution_count": 1,
      "outputs": [
        {
          "output_type": "execute_result",
          "data": {
            "text/plain": [
              "'https://leprogramme.ch/agenda-culturel-de-la-semaine/Vaud/2024/20'"
            ],
            "application/vnd.google.colaboratory.intrinsic+json": {
              "type": "string"
            }
          },
          "metadata": {},
          "execution_count": 1
        }
      ]
    },
    {
      "cell_type": "code",
      "source": [
        "import urllib.request\n",
        "programme_response = urllib.request.urlopen(current_week_url)\n",
        "programme_content = programme_response.read()\n",
        "print(len(programme_content))"
      ],
      "metadata": {
        "colab": {
          "base_uri": "https://localhost:8080/"
        },
        "id": "c3WONBA3QfTx",
        "outputId": "f03faf7c-ba8c-4b3a-b3aa-f7a1c98a1842"
      },
      "execution_count": 2,
      "outputs": [
        {
          "output_type": "stream",
          "name": "stdout",
          "text": [
            "212976\n"
          ]
        }
      ]
    },
    {
      "cell_type": "markdown",
      "source": [
        "We will need beautifulsoup to analyze the page content"
      ],
      "metadata": {
        "id": "DIDmiX63P96a"
      }
    },
    {
      "cell_type": "code",
      "source": [
        "!pip install beautifulsoup4"
      ],
      "metadata": {
        "id": "RU_UXV4ZOpm1",
        "colab": {
          "base_uri": "https://localhost:8080/"
        },
        "outputId": "a2b565be-02f9-4b5c-9d94-e2aac9dea026"
      },
      "execution_count": 3,
      "outputs": [
        {
          "output_type": "stream",
          "name": "stdout",
          "text": [
            "Requirement already satisfied: beautifulsoup4 in /usr/local/lib/python3.10/dist-packages (4.12.3)\n",
            "Requirement already satisfied: soupsieve>1.2 in /usr/local/lib/python3.10/dist-packages (from beautifulsoup4) (2.5)\n"
          ]
        }
      ]
    },
    {
      "cell_type": "markdown",
      "source": [
        "Let us get the events"
      ],
      "metadata": {
        "id": "zBjLUJrtTpie"
      }
    },
    {
      "cell_type": "code",
      "execution_count": 4,
      "metadata": {
        "id": "UP0kb02XjuVs",
        "outputId": "13e6f8e4-26ca-47b3-b46c-cf84a1d8c520",
        "colab": {
          "base_uri": "https://localhost:8080/"
        }
      },
      "outputs": [
        {
          "output_type": "execute_result",
          "data": {
            "text/plain": [
              "99"
            ]
          },
          "metadata": {},
          "execution_count": 4
        }
      ],
      "source": [
        "from bs4 import BeautifulSoup\n",
        "programme_soup = BeautifulSoup(programme_content)\n",
        "spectacle_cards = [tag for tag in programme_soup.find_all('a', class_ = 'card-spectacle') ]\n",
        "len(spectacle_cards)"
      ]
    },
    {
      "cell_type": "markdown",
      "source": [
        "and inspect the first card, to see how we can extract the relevant information. We may have to look at the parent to see the date we are talking about."
      ],
      "metadata": {
        "id": "jDv9qdiWTtT0"
      }
    },
    {
      "cell_type": "code",
      "source": [
        "from datetime import datetime\n",
        "\n",
        "def get_datetime_from_card(card):\n",
        "  date_string = card.parent.parent.find('div', class_='spectacle-date').find('div', class_='day').get_text()\n",
        "\n",
        "  french_months = {\n",
        "    'Janvier': '01',\n",
        "    'Février': '02',\n",
        "    'Mars': '03',\n",
        "    'Avril': '04',\n",
        "    'Mai': '05',\n",
        "    'Juin': '06',\n",
        "    'Juillet': '07',\n",
        "    'Août': '08',\n",
        "    'Septembre': '09',\n",
        "    'Octobre': '10',\n",
        "    'Novembre': '11',\n",
        "    'Décembre': '12'\n",
        "  }\n",
        "\n",
        "  day, month_name, year = date_string.split()\n",
        "  month = french_months[month_name]\n",
        "\n",
        "  hour = card.find('div', class_ = 'card-date').get_text()\n",
        "\n",
        "  date_formatted = f\"{day} {month} {year} {hour}\"\n",
        "  date_object = datetime.strptime(date_formatted, \"%d %m %Y %H:%M\")\n",
        "  return date_object\n",
        "\n",
        "\n",
        "\n",
        "\n"
      ],
      "metadata": {
        "id": "YwtjGuwETyKl"
      },
      "execution_count": 5,
      "outputs": []
    },
    {
      "cell_type": "markdown",
      "source": [
        "We can test in on a specific card"
      ],
      "metadata": {
        "id": "MxdGthH9Zwkp"
      }
    },
    {
      "cell_type": "code",
      "source": [
        "get_datetime_from_card(spectacle_cards[0])"
      ],
      "metadata": {
        "id": "lJVfSUbyZynZ",
        "outputId": "4b796a0e-2ca3-4c35-91a0-52671b5357ac",
        "colab": {
          "base_uri": "https://localhost:8080/"
        }
      },
      "execution_count": 6,
      "outputs": [
        {
          "output_type": "execute_result",
          "data": {
            "text/plain": [
              "datetime.datetime(2024, 5, 13, 20, 30)"
            ]
          },
          "metadata": {},
          "execution_count": 6
        }
      ]
    },
    {
      "cell_type": "markdown",
      "source": [
        "Now we also want to extract the rest, which can be found directly in the card"
      ],
      "metadata": {
        "id": "TA6-YVTBphmh"
      }
    },
    {
      "cell_type": "code",
      "source": [
        "def get_title_from_card(card):\n",
        "  card_title_element = card.find('h5', class_ = 'card-title')\n",
        "  return card_title_element.get_text()"
      ],
      "metadata": {
        "id": "QdlpBZd7p9IJ"
      },
      "execution_count": 7,
      "outputs": []
    },
    {
      "cell_type": "code",
      "source": [
        "get_title_from_card(spectacle_cards[0])"
      ],
      "metadata": {
        "colab": {
          "base_uri": "https://localhost:8080/",
          "height": 35
        },
        "id": "UroKZLVXpmAY",
        "outputId": "0a11ac8e-4ad2-488f-fb11-3f4147dc2ce7"
      },
      "execution_count": 8,
      "outputs": [
        {
          "output_type": "execute_result",
          "data": {
            "text/plain": [
              "'Double-Double'"
            ],
            "application/vnd.google.colaboratory.intrinsic+json": {
              "type": "string"
            }
          },
          "metadata": {},
          "execution_count": 8
        }
      ]
    },
    {
      "cell_type": "markdown",
      "source": [
        "The description will contain HTML but we are only interested in the text for now."
      ],
      "metadata": {
        "id": "u8DP2WXUqgUl"
      }
    },
    {
      "cell_type": "code",
      "source": [
        "def get_description_from_card(card):\n",
        "  card_description_element = card.find('p', class_ = 'card-description')\n",
        "  txt = card_description_element.get_text()\n",
        "  if (len(txt) > 200):\n",
        "    txt = txt[:200]\n",
        "  return txt\n"
      ],
      "metadata": {
        "id": "qYON0e_9qlZ7"
      },
      "execution_count": 59,
      "outputs": []
    },
    {
      "cell_type": "code",
      "source": [
        "get_description_from_card(spectacle_cards[1])"
      ],
      "metadata": {
        "colab": {
          "base_uri": "https://localhost:8080/",
          "height": 52
        },
        "id": "Kj3OfVNgqwpi",
        "outputId": "612695aa-c9d6-483a-a6bc-dc5798483ad1"
      },
      "execution_count": 31,
      "outputs": [
        {
          "output_type": "execute_result",
          "data": {
            "text/plain": [
              "\"A partir d'un fait divers dramatique naît du théâtre dans du théâtre, une tragi-comédie qui suppose \""
            ],
            "application/vnd.google.colaboratory.intrinsic+json": {
              "type": "string"
            }
          },
          "metadata": {},
          "execution_count": 31
        }
      ]
    },
    {
      "cell_type": "markdown",
      "source": [
        "It's fun that there is basically no semantic information, we have to get it out of the current layout"
      ],
      "metadata": {
        "id": "mP9EkLh9rn4k"
      }
    },
    {
      "cell_type": "code",
      "source": [
        "def get_location_from_card(card):\n",
        "  location_element = card.find('p', class_ = 'card-text')\n",
        "  return location_element.get_text().strip()\n"
      ],
      "metadata": {
        "id": "-DF187tUrtF2"
      },
      "execution_count": 32,
      "outputs": []
    },
    {
      "cell_type": "code",
      "source": [
        "get_location_from_card(spectacle_cards[1])"
      ],
      "metadata": {
        "colab": {
          "base_uri": "https://localhost:8080/",
          "height": 35
        },
        "id": "J6uKkRsBr2Di",
        "outputId": "23406179-7159-45a7-b969-dbbe0c8feb7a"
      },
      "execution_count": 33,
      "outputs": [
        {
          "output_type": "execute_result",
          "data": {
            "text/plain": [
              "'Théâtre Saint-Gervais, Genève'"
            ],
            "application/vnd.google.colaboratory.intrinsic+json": {
              "type": "string"
            }
          },
          "metadata": {},
          "execution_count": 33
        }
      ]
    },
    {
      "cell_type": "code",
      "source": [
        "def get_theme_from_card(card):\n",
        "  tags_element = card.find('ul', class_ = 'card-tags')\n",
        "  list_item_element = tags_element.find('li')\n",
        "  class_ = list_item_element['class']\n",
        "  return class_[0].replace('theme-', '')"
      ],
      "metadata": {
        "id": "t3r9zAEStH-H"
      },
      "execution_count": 34,
      "outputs": []
    },
    {
      "cell_type": "code",
      "source": [
        "get_theme_from_card(spectacle_cards[0])"
      ],
      "metadata": {
        "colab": {
          "base_uri": "https://localhost:8080/",
          "height": 35
        },
        "id": "1MEY0WDBtlqK",
        "outputId": "3b8d5747-e1a2-4c23-d07c-e1191be2a444"
      },
      "execution_count": 14,
      "outputs": [
        {
          "output_type": "execute_result",
          "data": {
            "text/plain": [
              "'music'"
            ],
            "application/vnd.google.colaboratory.intrinsic+json": {
              "type": "string"
            }
          },
          "metadata": {},
          "execution_count": 14
        }
      ]
    },
    {
      "cell_type": "code",
      "source": [
        "def get_genres_from_card(card):\n",
        "  tags_element = card.find('ul', class_ = 'card-tags')\n",
        "  list_item_element = tags_element.find('li')\n",
        "  return list_item_element.get_text().strip().split(' | ')"
      ],
      "metadata": {
        "id": "V_C57ij7t8vB"
      },
      "execution_count": 35,
      "outputs": []
    },
    {
      "cell_type": "code",
      "source": [
        "get_genres_from_card(spectacle_cards[4])"
      ],
      "metadata": {
        "colab": {
          "base_uri": "https://localhost:8080/"
        },
        "id": "llCo3qnOuD2x",
        "outputId": "cdcff937-cd5b-48e5-9b4b-a1f531c124be"
      },
      "execution_count": 16,
      "outputs": [
        {
          "output_type": "execute_result",
          "data": {
            "text/plain": [
              "['Opéra / Opérette', 'humour - stand-up']"
            ]
          },
          "metadata": {},
          "execution_count": 16
        }
      ]
    },
    {
      "cell_type": "markdown",
      "source": [
        "For easily checking what is happening, create a dataclass holding that info."
      ],
      "metadata": {
        "id": "7lf-MxQyv1Jt"
      }
    },
    {
      "cell_type": "code",
      "source": [
        "from dataclasses import dataclass\n",
        "from typing import List\n",
        "\n",
        "@dataclass\n",
        "class Spectacle:\n",
        "  date: 'typing.Any'\n",
        "  title: str\n",
        "  description: str\n",
        "  location: str\n",
        "  theme: str\n",
        "  genres: List[str]\n"
      ],
      "metadata": {
        "id": "guAUjFydv5Lu"
      },
      "execution_count": 36,
      "outputs": []
    },
    {
      "cell_type": "code",
      "source": [
        "def get_spectacle_from_card(card):\n",
        "  return Spectacle(get_datetime_from_card(card), get_title_from_card(card), get_description_from_card(card),\n",
        "                   get_location_from_card(card), get_theme_from_card(card),\n",
        "                   get_genres_from_card(card))"
      ],
      "metadata": {
        "id": "u_7VfhIxw2i1"
      },
      "execution_count": 37,
      "outputs": []
    },
    {
      "cell_type": "code",
      "source": [
        "spectacles = [get_spectacle_from_card(card) for card in spectacle_cards]"
      ],
      "metadata": {
        "id": "1JtPTj19xH9z"
      },
      "execution_count": 63,
      "outputs": []
    },
    {
      "cell_type": "code",
      "source": [
        "import json\n",
        "import dataclasses\n",
        "from datetime import datetime\n",
        "\n",
        "class EnhancedJSONEncoder(json.JSONEncoder):\n",
        "        def default(self, o):\n",
        "            if dataclasses.is_dataclass(o):\n",
        "                return dataclasses.asdict(o)\n",
        "            elif isinstance(o, datetime):\n",
        "                return o.isoformat()\n",
        "            return super().default(o)\n",
        "\n",
        "json_spectacles = json.dumps(spectacles, cls=EnhancedJSONEncoder)\n",
        "json_spectacles"
      ],
      "metadata": {
        "colab": {
          "base_uri": "https://localhost:8080/",
          "height": 205
        },
        "id": "N0Ee1SIT40pp",
        "outputId": "4bb45c95-357d-4289-c708-ed8d40407a36"
      },
      "execution_count": 60,
      "outputs": [
        {
          "output_type": "execute_result",
          "data": {
            "text/plain": [
              "'[{\"date\": \"2024-05-13T20:30:00\", \"title\": \"Double-Double\", \"description\": \"\", \"location\": \"AMR / Sud des Alpes, Gen\\\\u00e8ve\", \"theme\": \"music\", \"genres\": [\"Jazz / Blues\"]}, {\"date\": \"2024-05-14T19:00:00\", \"title\": \"L\\\\u2019Union indestructible des r\\\\u00e9publiques libres | Attilio Sandro Palese\", \"description\": \"A partir d\\'un fait divers dramatique na\\\\u00eet du th\\\\u00e9\\\\u00e2tre dans du th\\\\u00e9\\\\u00e2tre, une tragi-com\\\\u00e9die qui suppose \", \"location\": \"Th\\\\u00e9\\\\u00e2tre Saint-Gervais, Gen\\\\u00e8ve\", \"theme\": \"theater\", \"genres\": [\"Th\\\\u00e9\\\\u00e2tre\"]}, {\"date\": \"2024-05-14T19:30:00\", \"title\": \"Amour \\\\u00e0 mort | Leonardo Garc\\\\u00eda Alarc\\\\u00f3n - Jean-Yves Ruf\", \"description\": \"Les r\\\\u00e9cits se m\\\\u00ealent et l\\\\u2019orchestre participe \\\\u00e0 l\\\\u2019intrigue. Les \\\\u0153uvres instrumentales, les nouvelles\", \"location\": \"La Cit\\\\u00e9 Bleue, Gen\\\\u00e8ve\", \"theme\": \"other\", \"genres\": [\"Op\\\\u00e9ra / Op\\\\u00e9rette\", \"Classique / Baroque\"]}, {\"date\": \"2024-05-14T20:00:00\", \"title\": \"Anne Roumanoff | L\\\\u2019exp\\\\u00e9rience de la vie\", \"description\": \"D\\\\u00e8s 12 ans. L\\\\u2019humoriste nous plonge une nouvelle fois dans son univers dr\\\\u00f4le et magique en partagean\", \"location\": \"Salle communale d\\\\u2019Onex, Onex\", \"theme\": \"theater\", \"genres\": [\"humour - stand-up\"]}, {\"date\": \"2024-05-14T20:00:00\", \"title\": \"La Famille Don Juan | Cie Comiqu\\'op\\\\u00e9ra\", \"description\": \"Il s\\\\u2019affiche comme le plus c\\\\u00e9l\\\\u00e8bre des s\\\\u00e9ducteurs, un mythe \\\\u00e0 lui tout seul, une star hollywoodienne\", \"location\": \"Th\\\\u00e9\\\\u00e2tre Le Cr\\\\u00e8ve-C\\\\u0153ur, Cologny\", \"theme\": \"other\", \"genres\": [\"Op\\\\u00e9ra / Op\\\\u00e9rette\", \"humour - stand-up\"]}, {\"date\": \"2024-05-14T20:00:00\", \"title\": \"J\\\\u2019\\\\u00e9tais dans ma maison et j\\\\u2019attendais que la pluie vienne | Jean-Luc Lagarce - Elidan Arzoni\", \"description\": \"L\\\\u2019un des grands textes de l\\\\u2019auteur de \\\\u00abJuste la fin du monde\\\\u00bb servi par une brillante distribution m\", \"location\": \"Th\\\\u00e9\\\\u00e2tre du Galpon, Gen\\\\u00e8ve\", \"theme\": \"theater\", \"genres\": [\"Th\\\\u00e9\\\\u00e2tre\"]}, {\"date\": \"2024-05-14T20:00:00\", \"title\": \"K\\\\u00e9vin Eyer\", \"description\": \"Apr\\\\u00e8s la pr\\\\u00e9sentation de son dernier spectacle Gen\\\\u00e8ve l\\'ann\\\\u00e9e pass\\\\u00e9e au Th\\\\u00e9\\\\u00e2tre la Madelaine, il nou\", \"location\": \"Caustic Comedy Club, Carouge\", \"theme\": \"theater\", \"genres\": [\"humour - stand-up\"]}, {\"date\": \"2024-05-14T20:00:00\", \"title\": \"Holly Hyun Choe - Orchestre de Chambre de Gen\\\\u00e8ve (L\\'OCG) | Beethoven - Fanny Mendelssohn - Felix Mendelssohn - Bach\", \"description\": \"L\\'Orchestre de Chambre de Gen\\\\u00e8ve (L\\'OCG) interpr\\\\u00e8te Beethoven, Fanny Mendelssohn, Felix Mendelssohn \", \"location\": \"B\\\\u00e2timent des Forces Motrices (BFM), Gen\\\\u00e8ve\", \"theme\": \"music\", \"genres\": [\"Classique / Baroque\"]}, {\"date\": \"2024-05-14T20:00:00\", \"title\": \"L\\\\u2019autre | M\\\\u00e9lanie Chappuis - Christian Gregori\", \"description\": \"Deux femmes se rencontrent dans un caf\\\\u00e9. Alessandra et Nelly sont respectivement l\\\\u2019\\\\u00e9pouse et la ma\\\\u00eet\", \"location\": \"Th\\\\u00e9\\\\u00e2tricul, Ch\\\\u00eane-Bourg\", \"theme\": \"theater\", \"genres\": [\"Th\\\\u00e9\\\\u00e2tre\"]}, {\"date\": \"2024-05-14T20:00:00\", \"title\": \"Tous les po\\\\u00e8tes habitent Valparaiso - Cie STT\", \"description\": \"Les po\\\\u00e8mes de jeunesse d\\'un journaliste genevois se retrouvent \\\\u00e0 son insu dans la presse chilienne, \", \"location\": \"Les Amis musiqueth\\\\u00e9\\\\u00e2tre, Carouge\", \"theme\": \"theater\", \"genres\": [\"Th\\\\u00e9\\\\u00e2tre\"]}, {\"date\": \"2024-05-14T20:00:00\", \"title\": \"BLKDOG | Far From The Norm, Botis Seva\", \"description\": \"Qu\\\\u2019advient-il de notre enfant int\\\\u00e9rieur quand nous devenons adultes? BLKDOG utilise des images sombr\", \"location\": \"Salle du Lignon, Vernier\", \"theme\": \"dance\", \"genres\": [\"hip-hop - danses urbaines\"]}, {\"date\": \"2024-05-14T20:00:00\", \"title\": \"M\\\\u00e9lissa Guex | DOWN (full album) \", \"description\": \"C\\\\u2019est full album. Changement d\\\\u2019espace. Costumes de f\\\\u00eate, couleurs vives, rythme punk. Une performanc\", \"location\": \"Pavillon ADC, Gen\\\\u00e8ve\", \"theme\": \"other\", \"genres\": [\"Autre genre musical\", \"Contemporaine\"]}, {\"date\": \"2024-05-14T20:30:00\", \"title\": \"Koulounisation | Salim Djaferi\", \"description\": \"Tout public, d\\\\u00e8s 14 ans. De quoi la guerre d\\\\u2019Alg\\\\u00e9rie est-elle le nom? .De rencontres en anecdotes, l\", \"location\": \"Th\\\\u00e9\\\\u00e2tre du Bordeau, Saint-Genis-Pouilly - France\", \"theme\": \"theater\", \"genres\": [\"Th\\\\u00e9\\\\u00e2tre\"]}, {\"date\": \"2024-05-14T20:30:00\", \"title\": \"Double-Double\", \"description\": \"\", \"location\": \"AMR / Sud des Alpes, Gen\\\\u00e8ve\", \"theme\": \"music\", \"genres\": [\"Jazz / Blues\"]}, {\"date\": \"2024-05-14T21:00:00\", \"title\": \"Jam Session\", \"description\": \"La jam, c\\\\u2019est une sc\\\\u00e8ne ouverte \\\\u00e0 toutes et tous, et l\\\\u2019occasion de faire plus amplement connaissance\", \"location\": \"AMR / Sud des Alpes, Gen\\\\u00e8ve\", \"theme\": \"music\", \"genres\": [\"Jazz / Blues\"]}, {\"date\": \"2024-05-15T10:00:00\", \"title\": \"Oh C\\'est Quoi \\\\u00c7a? | Raffaella Gardon - L\\'Encyclop\\\\u00e9die de la Parole\", \"description\": \"D\\\\u00e8s 2 ans. Voyage pour tout\\\\u00b7es-petit\\\\u00b7es dans une constellation de paroles\\\\r\\\\nCie \\\\u00c9chelle 1:1 - Nicolas\", \"location\": \"Th\\\\u00e9\\\\u00e2tre Am Stram Gram, Gen\\\\u00e8ve\", \"theme\": \"theater\", \"genres\": [\"Th\\\\u00e9\\\\u00e2tre\"]}, {\"date\": \"2024-05-15T10:00:00\", \"title\": \"Colorama\", \"description\": \"3-6 ans. Aujourd\\\\u2019hui tout est gris. Notre chanteuse a le cafard, elle voit tout en noir. Elle a envi\", \"location\": \"Grand Th\\\\u00e9\\\\u00e2tre de Gen\\\\u00e8ve (GTG), Gen\\\\u00e8ve\", \"theme\": \"music\", \"genres\": [\"Spectacle musical\"]}, {\"date\": \"2024-05-15T15:00:00\", \"title\": \"Colorama\", \"description\": \"3-6 ans. Aujourd\\\\u2019hui tout est gris. Notre chanteuse a le cafard, elle voit tout en noir. Elle a envi\", \"location\": \"Grand Th\\\\u00e9\\\\u00e2tre de Gen\\\\u00e8ve (GTG), Gen\\\\u00e8ve\", \"theme\": \"music\", \"genres\": [\"Spectacle musical\"]}, {\"date\": \"2024-05-15T15:00:00\", \"title\": \"Julien Sonjon | Un Instant de Type Magie\", \"description\": \"Cet artiste aux talents multiples est un improvisateur-com\\\\u00e9dien-magicien des plus \\\\u00e9nergiques. Il vou\", \"location\": \"Point Favre, Ch\\\\u00eane-Bourg\", \"theme\": \"other\", \"genres\": [\"Magie\"]}, {\"date\": \"2024-05-15T15:00:00\", \"title\": \"L\\'\\\\u00cele flottante | Cie In\\\\u00e8s\", \"description\": \"Famille. Des ustensiles de cuisine inspirent des danses et des chansons. Des envies surgissent et il\", \"location\": \"Ferme de Marignac, Grand-Lancy\", \"theme\": \"theater\", \"genres\": [\"Spectacle musical\"]}, {\"date\": \"2024-05-15T16:00:00\", \"title\": \"Oh C\\'est Quoi \\\\u00c7a? | Raffaella Gardon - L\\'Encyclop\\\\u00e9die de la Parole\", \"description\": \"D\\\\u00e8s 2 ans. Voyage pour tout\\\\u00b7es-petit\\\\u00b7es dans une constellation de paroles\\\\r\\\\nCie \\\\u00c9chelle 1:1 - Nicolas\", \"location\": \"Th\\\\u00e9\\\\u00e2tre Am Stram Gram, Gen\\\\u00e8ve\", \"theme\": \"theater\", \"genres\": [\"Th\\\\u00e9\\\\u00e2tre\"]}, {\"date\": \"2024-05-15T17:30:00\", \"title\": \"Micro Ouvert\", \"description\": \"8 humoristes viennent tester des blagues dans la cave pendant que le bar reste ouvert. Une ambiance \", \"location\": \"Caustic Comedy Club, Carouge\", \"theme\": \"theater\", \"genres\": [\"humour - stand-up\"]}, {\"date\": \"2024-05-15T19:00:00\", \"title\": \"Caustic Comedy Night\", \"description\": \"Des humoristes de talent vont se succ\\\\u00e9der pour balancer des blagues dans le micro, et tu vas rire. F\", \"location\": \"Caustic Comedy Club, Carouge\", \"theme\": \"theater\", \"genres\": [\"humour - stand-up\"]}, {\"date\": \"2024-05-15T19:00:00\", \"title\": \"Stil Moderno \\\\u2013 L\\'Armonia degli Affetti\", \"description\": \"En opposition au \\\\u201cstil antico\\\\u201d (style ancien), le \\\\u201cstil moderno\\\\u201d (style moderne) favorise la monodie\", \"location\": \"Th\\\\u00e9\\\\u00e2tre Les Salons, Gen\\\\u00e8ve\", \"theme\": \"music\", \"genres\": [\"Classique / Baroque\"]}, {\"date\": \"2024-05-15T19:00:00\", \"title\": \"Tous les po\\\\u00e8tes habitent Valparaiso - Cie STT\", \"description\": \"Les po\\\\u00e8mes de jeunesse d\\'un journaliste genevois se retrouvent \\\\u00e0 son insu dans la presse chilienne, \", \"location\": \"Les Amis musiqueth\\\\u00e9\\\\u00e2tre, Carouge\", \"theme\": \"theater\", \"genres\": [\"Th\\\\u00e9\\\\u00e2tre\"]}, {\"date\": \"2024-05-15T19:30:00\", \"title\": \"La Morsure de l\\'\\\\u00c2ne | Cie Les Veilleurs\", \"description\": \"D\\\\u00e8s 10 ans. Aborder la question de la vie et de la mort n\\\\u2019est pas chose ais\\\\u00e9e. \\\\u00c0 travers cette oeuvr\", \"location\": \"Ch\\\\u00e2teau Rouge, Annemasse - France\", \"theme\": \"theater\", \"genres\": [\"Th\\\\u00e9\\\\u00e2tre\"]}, {\"date\": \"2024-05-15T19:30:00\", \"title\": \"Amour \\\\u00e0 mort | Leonardo Garc\\\\u00eda Alarc\\\\u00f3n - Jean-Yves Ruf\", \"description\": \"Les r\\\\u00e9cits se m\\\\u00ealent et l\\\\u2019orchestre participe \\\\u00e0 l\\\\u2019intrigue. Les \\\\u0153uvres instrumentales, les nouvelles\", \"location\": \"La Cit\\\\u00e9 Bleue, Gen\\\\u00e8ve\", \"theme\": \"other\", \"genres\": [\"Op\\\\u00e9ra / Op\\\\u00e9rette\", \"Classique / Baroque\"]}, {\"date\": \"2024-05-15T20:00:00\", \"title\": \"Anne Roumanoff | L\\\\u2019exp\\\\u00e9rience de la vie\", \"description\": \"D\\\\u00e8s 12 ans. L\\\\u2019humoriste nous plonge une nouvelle fois dans son univers dr\\\\u00f4le et magique en partagean\", \"location\": \"Salle communale d\\\\u2019Onex, Onex\", \"theme\": \"theater\", \"genres\": [\"humour - stand-up\"]}, {\"date\": \"2024-05-15T20:00:00\", \"title\": \"La Famille Don Juan | Cie Comiqu\\'op\\\\u00e9ra\", \"description\": \"Il s\\\\u2019affiche comme le plus c\\\\u00e9l\\\\u00e8bre des s\\\\u00e9ducteurs, un mythe \\\\u00e0 lui tout seul, une star hollywoodienne\", \"location\": \"Th\\\\u00e9\\\\u00e2tre Le Cr\\\\u00e8ve-C\\\\u0153ur, Cologny\", \"theme\": \"other\", \"genres\": [\"Op\\\\u00e9ra / Op\\\\u00e9rette\", \"humour - stand-up\"]}, {\"date\": \"2024-05-15T20:00:00\", \"title\": \"J\\\\u2019\\\\u00e9tais dans ma maison et j\\\\u2019attendais que la pluie vienne | Jean-Luc Lagarce - Elidan Arzoni\", \"description\": \"L\\\\u2019un des grands textes de l\\\\u2019auteur de \\\\u00abJuste la fin du monde\\\\u00bb servi par une brillante distribution m\", \"location\": \"Th\\\\u00e9\\\\u00e2tre du Galpon, Gen\\\\u00e8ve\", \"theme\": \"theater\", \"genres\": [\"Th\\\\u00e9\\\\u00e2tre\"]}, {\"date\": \"2024-05-15T20:00:00\", \"title\": \"L\\\\u2019autre | M\\\\u00e9lanie Chappuis - Christian Gregori\", \"description\": \"Deux femmes se rencontrent dans un caf\\\\u00e9. Alessandra et Nelly sont respectivement l\\\\u2019\\\\u00e9pouse et la ma\\\\u00eet\", \"location\": \"Th\\\\u00e9\\\\u00e2tricul, Ch\\\\u00eane-Bourg\", \"theme\": \"theater\", \"genres\": [\"Th\\\\u00e9\\\\u00e2tre\"]}, {\"date\": \"2024-05-15T20:00:00\", \"title\": \"M\\\\u00e9lissa Guex | DOWN (full album) \", \"description\": \"C\\\\u2019est full album. Changement d\\\\u2019espace. Costumes de f\\\\u00eate, couleurs vives, rythme punk. Une performanc\", \"location\": \"Pavillon ADC, Gen\\\\u00e8ve\", \"theme\": \"other\", \"genres\": [\"Autre genre musical\", \"Contemporaine\"]}, {\"date\": \"2024-05-15T20:30:00\", \"title\": \"L\\\\u2019Union indestructible des r\\\\u00e9publiques libres | Attilio Sandro Palese\", \"description\": \"A partir d\\'un fait divers dramatique na\\\\u00eet du th\\\\u00e9\\\\u00e2tre dans du th\\\\u00e9\\\\u00e2tre, une tragi-com\\\\u00e9die qui suppose \", \"location\": \"Th\\\\u00e9\\\\u00e2tre Saint-Gervais, Gen\\\\u00e8ve\", \"theme\": \"theater\", \"genres\": [\"Th\\\\u00e9\\\\u00e2tre\"]}, {\"date\": \"2024-05-15T20:30:00\", \"title\": \"Double-Double\", \"description\": \"\", \"location\": \"AMR / Sud des Alpes, Gen\\\\u00e8ve\", \"theme\": \"music\", \"genres\": [\"Jazz / Blues\"]}, {\"date\": \"2024-05-15T21:00:00\", \"title\": \"Caustic Comedy Night\", \"description\": \"Des humoristes de talent vont se succ\\\\u00e9der pour balancer des blagues dans le micro, et tu vas rire. F\", \"location\": \"Caustic Comedy Club, Carouge\", \"theme\": \"theater\", \"genres\": [\"humour - stand-up\"]}, {\"date\": \"2024-05-16T18:30:00\", \"title\": \"Visite en musique | Contrechamps\", \"description\": \"Tout public. Trois musicien\\\\u00b7nes de l\\\\u2019Ensemble Contrechamps s\\\\u2019invitent dans les couloirs de l\\\\u2019exposit\", \"location\": \"Mus\\\\u00e9e d\\\\u2019art et d\\\\u2019histoire (MAH), Gen\\\\u00e8ve\", \"theme\": \"other\", \"genres\": [\"Performance\", \"Contemporaine\"]}, {\"date\": \"2024-05-16T19:00:00\", \"title\": \"L\\\\u2019Union indestructible des r\\\\u00e9publiques libres | Attilio Sandro Palese\", \"description\": \"A partir d\\'un fait divers dramatique na\\\\u00eet du th\\\\u00e9\\\\u00e2tre dans du th\\\\u00e9\\\\u00e2tre, une tragi-com\\\\u00e9die qui suppose \", \"location\": \"Th\\\\u00e9\\\\u00e2tre Saint-Gervais, Gen\\\\u00e8ve\", \"theme\": \"theater\", \"genres\": [\"Th\\\\u00e9\\\\u00e2tre\"]}, {\"date\": \"2024-05-16T19:00:00\", \"title\": \"Caustic Comedy Night\", \"description\": \"Des humoristes de talent vont se succ\\\\u00e9der pour balancer des blagues dans le micro, et tu vas rire. F\", \"location\": \"Caustic Comedy Club, Carouge\", \"theme\": \"theater\", \"genres\": [\"humour - stand-up\"]}, {\"date\": \"2024-05-16T19:00:00\", \"title\": \"Parafernalia | Maria Fernanda Ordo\\\\u00f1ez\", \"description\": \"Entre le clown contemporain, le th\\\\u00e9\\\\u00e2tre de marionnettes et le stand up, Maria Fernanda Ordo\\\\u00f1ez nous \", \"location\": \"Th\\\\u00e9\\\\u00e2tre de l\\\\u2019Usine (TU), Gen\\\\u00e8ve\", \"theme\": \"other\", \"genres\": [\"Performance\", \"Autre genre th\\\\u00e9\\\\u00e2tral\"]}, {\"date\": \"2024-05-16T19:00:00\", \"title\": \"Burnt Out In Biscuit Land | Jess Thom - Touretteshero\", \"description\": \"Alors que le monde ext\\\\u00e9rieur est en proie au chaos, depuis leur bunker apocalyptique, trois habitant\", \"location\": \"Le Gr\\\\u00fctli - Centre de production et de diffusion des Arts vivants, Gen\\\\u00e8ve\", \"theme\": \"theater\", \"genres\": [\"Th\\\\u00e9\\\\u00e2tre\"]}, {\"date\": \"2024-05-16T19:00:00\", \"title\": \"Holyshit Project\", \"description\": \"\\\\u00abEt si on faisait de l\\\\u2019or avec chacun des drames qui nous sont arriv\\\\u00e9s dans l\\\\u2019enfance ou dans nos vi\", \"location\": \"Th\\\\u00e9\\\\u00e2tre Les montreurs d\\'images, Gen\\\\u00e8ve\", \"theme\": \"other\", \"genres\": [\"Performance\"]}, {\"date\": \"2024-05-16T19:00:00\", \"title\": \"Tous les po\\\\u00e8tes habitent Valparaiso - Cie STT\", \"description\": \"Les po\\\\u00e8mes de jeunesse d\\'un journaliste genevois se retrouvent \\\\u00e0 son insu dans la presse chilienne, \", \"location\": \"Les Amis musiqueth\\\\u00e9\\\\u00e2tre, Carouge\", \"theme\": \"theater\", \"genres\": [\"Th\\\\u00e9\\\\u00e2tre\"]}, {\"date\": \"2024-05-16T19:30:00\", \"title\": \"Satie - Jarrell - Tcha\\\\u00efkovski | Orchestre de la Suisse Romande (OSR) - Chamayou - Urbanski\", \"description\": \"L\\'Orchestre de la Suisse Romande (OSR) et Bertrand Chamayou interpr\\\\u00e8tent Satie, Jarrell et Tcha\\\\u00efkovs\", \"location\": \"Victoria Hall, Gen\\\\u00e8ve\", \"theme\": \"music\", \"genres\": [\"Classique / Baroque\", \"Contemporaine\"]}, {\"date\": \"2024-05-16T20:00:00\", \"title\": \"La Famille Don Juan | Cie Comiqu\\'op\\\\u00e9ra\", \"description\": \"Il s\\\\u2019affiche comme le plus c\\\\u00e9l\\\\u00e8bre des s\\\\u00e9ducteurs, un mythe \\\\u00e0 lui tout seul, une star hollywoodienne\", \"location\": \"Th\\\\u00e9\\\\u00e2tre Le Cr\\\\u00e8ve-C\\\\u0153ur, Cologny\", \"theme\": \"other\", \"genres\": [\"Op\\\\u00e9ra / Op\\\\u00e9rette\", \"humour - stand-up\"]}, {\"date\": \"2024-05-16T20:00:00\", \"title\": \"J\\\\u2019\\\\u00e9tais dans ma maison et j\\\\u2019attendais que la pluie vienne | Jean-Luc Lagarce - Elidan Arzoni\", \"description\": \"L\\\\u2019un des grands textes de l\\\\u2019auteur de \\\\u00abJuste la fin du monde\\\\u00bb servi par une brillante distribution m\", \"location\": \"Th\\\\u00e9\\\\u00e2tre du Galpon, Gen\\\\u00e8ve\", \"theme\": \"theater\", \"genres\": [\"Th\\\\u00e9\\\\u00e2tre\"]}, {\"date\": \"2024-05-16T20:00:00\", \"title\": \"La Grande soir\\\\u00e9e du Doublage improvis\\\\u00e9 | Eric Lecoultre\", \"description\": \"Le principe est simple: Les com\\\\u00e9dien\\\\u00b7nes d\\\\u00e9couvrent sur grand \\\\u00e9cran des extraits de films ou de s\\\\u00e9ri\", \"location\": \"Salle Centrale de la Madeleine, Gen\\\\u00e8ve\", \"theme\": \"theater\", \"genres\": [\"humour - stand-up\", \"Impro\"]}, {\"date\": \"2024-05-16T20:00:00\", \"title\": \"Daniel Guichard | Si c\\'\\\\u00e9tait \\\\u00e0 refaire\", \"description\": \"L\\\\u2019occasion pour le chanteur d\\\\u2019interpr\\\\u00e9ter ses plus grands succ\\\\u00e8s qui donnent \\\\u00e0 la vari\\\\u00e9t\\\\u00e9 ses lettre\", \"location\": \"Th\\\\u00e9\\\\u00e2tre du L\\\\u00e9man, Gen\\\\u00e8ve\", \"theme\": \"music\", \"genres\": [\"Chanson\"]}, {\"date\": \"2024-05-16T20:00:00\", \"title\": \"Big Band des Eaux-Vives - Tribute to The Blues Brothers\", \"description\": \"Gr\\\\u00e2ce \\\\u00e0 la pr\\\\u00e9sence d\\'invit\\\\u00e9.e.s tr\\\\u00e8s sp\\\\u00e9ciaux/sp\\\\u00e9ciale.s, l\\'orchestre est pr\\\\u00eat \\\\u00e0 capturer l\\'esprit \", \"location\": \"Alhambra, Gen\\\\u00e8ve\", \"theme\": \"music\", \"genres\": [\"Jazz / Blues\", \"Funk / Soul / R\\'n\\'B\"]}, {\"date\": \"2024-05-16T20:00:00\", \"title\": \"Ensemble Diaphane - Collection printemps\", \"description\": \"L\\'Ensemble Diaphane interpr\\\\u00e8te F. Poulenc, M-M. Durufl\\\\u00e9-Chevalier, D. Lang, B. Hayoz, D. McIntyre...\", \"location\": \"Temple de Carouge, Carouge\", \"theme\": \"music\", \"genres\": [\"Classique / Baroque\"]}, {\"date\": \"2024-05-16T20:00:00\", \"title\": \"L\\\\u2019autre | M\\\\u00e9lanie Chappuis - Christian Gregori\", \"description\": \"Deux femmes se rencontrent dans un caf\\\\u00e9. Alessandra et Nelly sont respectivement l\\\\u2019\\\\u00e9pouse et la ma\\\\u00eet\", \"location\": \"Th\\\\u00e9\\\\u00e2tricul, Ch\\\\u00eane-Bourg\", \"theme\": \"theater\", \"genres\": [\"Th\\\\u00e9\\\\u00e2tre\"]}, {\"date\": \"2024-05-16T20:00:00\", \"title\": \"Le Champ de bataille | Thierry Hellin\", \"description\": \"D\\\\u00e8s 14 ans. J\\\\u00e9r\\\\u00f4me Colin affirme qu\\\\u2019avoir des adolescents \\\\u00e0 la maison, c\\\\u2019est entrer dans un vocabula\", \"location\": \"Espace V\\\\u00e9lodrome, Plan-les-Ouates\", \"theme\": \"theater\", \"genres\": [\"Th\\\\u00e9\\\\u00e2tre\"]}, {\"date\": \"2024-05-16T20:00:00\", \"title\": \"M\\\\u00e9lissa Guex | DOWN (full album) \", \"description\": \"C\\\\u2019est full album. Changement d\\\\u2019espace. Costumes de f\\\\u00eate, couleurs vives, rythme punk. Une performanc\", \"location\": \"Pavillon ADC, Gen\\\\u00e8ve\", \"theme\": \"other\", \"genres\": [\"Autre genre musical\", \"Contemporaine\"]}, {\"date\": \"2024-05-16T20:30:00\", \"title\": \"Double-Double\", \"description\": \"\", \"location\": \"AMR / Sud des Alpes, Gen\\\\u00e8ve\", \"theme\": \"music\", \"genres\": [\"Jazz / Blues\"]}, {\"date\": \"2024-05-16T20:30:00\", \"title\": \"Lune en lumi\\\\u00e8re - Mozart - Brahms\", \"description\": \"Francesca Giarini Dalhen, Helena Duckert et Sebasti\\\\u00e1n Giunta interpr\\\\u00e8tent Mozart et BrahmsFrancesca \", \"location\": \"Villa Dutoit, Petit-saconnex\", \"theme\": \"music\", \"genres\": [\"Classique / Baroque\"]}, {\"date\": \"2024-05-16T20:30:00\", \"title\": \"Anouch - Andr\\\\u00e9 Manoukian Trio & Dafn\\\\u00e9 Kritharas | Culture Meyrin\", \"description\": \"Tous Publics. Un concert d\\\\u2019Andr\\\\u00e9 Manoukian comme une sorte de p\\\\u00e8lerinage vers l\\\\u2019Orient et vers la m\\\\u00e9\", \"location\": \"Th\\\\u00e9\\\\u00e2tre du Forum de Meyrin, Meyrin\", \"theme\": \"music\", \"genres\": [\"Musiques du monde / traditionnelles\"]}, {\"date\": \"2024-05-16T21:00:00\", \"title\": \"Caustic Comedy Night\", \"description\": \"Des humoristes de talent vont se succ\\\\u00e9der pour balancer des blagues dans le micro, et tu vas rire. F\", \"location\": \"Caustic Comedy Club, Carouge\", \"theme\": \"theater\", \"genres\": [\"humour - stand-up\"]}, {\"date\": \"2024-05-17T19:00:00\", \"title\": \"Elies | Si on m\\'avait dit\", \"description\": \"Il accueille les moments insolites de la vie en gardant le sourire. Il est heureux - et c\\'est bien p\", \"location\": \"Caustic Comedy Club, Carouge\", \"theme\": \"theater\", \"genres\": [\"humour - stand-up\"]}, {\"date\": \"2024-05-17T19:00:00\", \"title\": \"Burnt Out In Biscuit Land | Jess Thom - Touretteshero\", \"description\": \"Alors que le monde ext\\\\u00e9rieur est en proie au chaos, depuis leur bunker apocalyptique, trois habitant\", \"location\": \"Le Gr\\\\u00fctli - Centre de production et de diffusion des Arts vivants, Gen\\\\u00e8ve\", \"theme\": \"theater\", \"genres\": [\"Th\\\\u00e9\\\\u00e2tre\"]}, {\"date\": \"2024-05-17T19:00:00\", \"title\": \"Holyshit Project\", \"description\": \"\\\\u00abEt si on faisait de l\\\\u2019or avec chacun des drames qui nous sont arriv\\\\u00e9s dans l\\\\u2019enfance ou dans nos vi\", \"location\": \"Th\\\\u00e9\\\\u00e2tre Les montreurs d\\'images, Gen\\\\u00e8ve\", \"theme\": \"other\", \"genres\": [\"Performance\"]}, {\"date\": \"2024-05-17T20:00:00\", \"title\": \"La Famille Don Juan | Cie Comiqu\\'op\\\\u00e9ra\", \"description\": \"Il s\\\\u2019affiche comme le plus c\\\\u00e9l\\\\u00e8bre des s\\\\u00e9ducteurs, un mythe \\\\u00e0 lui tout seul, une star hollywoodienne\", \"location\": \"Th\\\\u00e9\\\\u00e2tre Le Cr\\\\u00e8ve-C\\\\u0153ur, Cologny\", \"theme\": \"other\", \"genres\": [\"Op\\\\u00e9ra / Op\\\\u00e9rette\", \"humour - stand-up\"]}, {\"date\": \"2024-05-17T20:00:00\", \"title\": \"J\\\\u2019\\\\u00e9tais dans ma maison et j\\\\u2019attendais que la pluie vienne | Jean-Luc Lagarce - Elidan Arzoni\", \"description\": \"L\\\\u2019un des grands textes de l\\\\u2019auteur de \\\\u00abJuste la fin du monde\\\\u00bb servi par une brillante distribution m\", \"location\": \"Th\\\\u00e9\\\\u00e2tre du Galpon, Gen\\\\u00e8ve\", \"theme\": \"theater\", \"genres\": [\"Th\\\\u00e9\\\\u00e2tre\"]}, {\"date\": \"2024-05-17T20:00:00\", \"title\": \"Parafernalia | Maria Fernanda Ordo\\\\u00f1ez\", \"description\": \"Entre le clown contemporain, le th\\\\u00e9\\\\u00e2tre de marionnettes et le stand up, Maria Fernanda Ordo\\\\u00f1ez nous \", \"location\": \"Th\\\\u00e9\\\\u00e2tre de l\\\\u2019Usine (TU), Gen\\\\u00e8ve\", \"theme\": \"other\", \"genres\": [\"Performance\", \"Autre genre th\\\\u00e9\\\\u00e2tral\"]}, {\"date\": \"2024-05-17T20:00:00\", \"title\": \"OHGe (Orchestre d\\\\u2019harmonie de l\\\\u2019\\\\u00c9tat de Gen\\\\u00e8ve)\", \"description\": \"L\\'Orchestre d\\\\u2019harmonie de l\\\\u2019\\\\u00c9tat de Gen\\\\u00e8ve interpr\\\\u00e8te Gounod, Prokofiev, Tcha\\\\u00efkovski et BernsteinJea\", \"location\": \"Victoria Hall, Gen\\\\u00e8ve\", \"theme\": \"music\", \"genres\": [\"Classique / Baroque\"]}, {\"date\": \"2024-05-17T20:00:00\", \"title\": \"L\\\\u2019autre | M\\\\u00e9lanie Chappuis - Christian Gregori\", \"description\": \"Deux femmes se rencontrent dans un caf\\\\u00e9. Alessandra et Nelly sont respectivement l\\\\u2019\\\\u00e9pouse et la ma\\\\u00eet\", \"location\": \"Th\\\\u00e9\\\\u00e2tricul, Ch\\\\u00eane-Bourg\", \"theme\": \"theater\", \"genres\": [\"Th\\\\u00e9\\\\u00e2tre\"]}, {\"date\": \"2024-05-17T20:00:00\", \"title\": \"Tous les po\\\\u00e8tes habitent Valparaiso - Cie STT\", \"description\": \"Les po\\\\u00e8mes de jeunesse d\\'un journaliste genevois se retrouvent \\\\u00e0 son insu dans la presse chilienne, \", \"location\": \"Les Amis musiqueth\\\\u00e9\\\\u00e2tre, Carouge\", \"theme\": \"theater\", \"genres\": [\"Th\\\\u00e9\\\\u00e2tre\"]}, {\"date\": \"2024-05-17T20:30:00\", \"title\": \"L\\\\u2019Union indestructible des r\\\\u00e9publiques libres | Attilio Sandro Palese\", \"description\": \"A partir d\\'un fait divers dramatique na\\\\u00eet du th\\\\u00e9\\\\u00e2tre dans du th\\\\u00e9\\\\u00e2tre, une tragi-com\\\\u00e9die qui suppose \", \"location\": \"Th\\\\u00e9\\\\u00e2tre Saint-Gervais, Gen\\\\u00e8ve\", \"theme\": \"theater\", \"genres\": [\"Th\\\\u00e9\\\\u00e2tre\"]}, {\"date\": \"2024-05-17T20:30:00\", \"title\": \"Le Chant du Signe... Un Cantique des Cantiques | Polina Eremina\", \"description\": \"D\\\\u00e8s 14 ans. Le Cantique des Cantiques: \\\\\"A partir de cette \\\\u0153uvre incommensurable et divine, je me lan\", \"location\": \"La Com\\\\u00e9die de Ferney-Voltaire, Ferney-Voltaire - France\", \"theme\": \"theater\", \"genres\": [\"Th\\\\u00e9\\\\u00e2tre\"]}, {\"date\": \"2024-05-17T20:30:00\", \"title\": \"Marion Rampal - Gabi Hartmann\", \"description\": \"Une soir\\\\u00e9e toute en charme et en douceur avec Marion Rampal et Gabi Hartmann, deux voix singuli\\\\u00e8res \", \"location\": \"Ch\\\\u00e2teau Rouge, Annemasse - France\", \"theme\": \"music\", \"genres\": [\"Jazz / Blues\"]}, {\"date\": \"2024-05-17T20:30:00\", \"title\": \"Evaristo Perez - Kohan & Jordan Duo\", \"description\": \"\\\\\"Plus qu\\\\u2019une \\\\u00e9coute active, mon souhait est de proposer une \\\\u00e9coute contemplative, o\\\\u00f9 l\\\\u2019on peut tombe\", \"location\": \"AMR / Sud des Alpes, Gen\\\\u00e8ve\", \"theme\": \"music\", \"genres\": [\"Jazz / Blues\"]}, {\"date\": \"2024-05-17T21:00:00\", \"title\": \"Elies | Si on m\\'avait dit\", \"description\": \"Il accueille les moments insolites de la vie en gardant le sourire. Il est heureux - et c\\'est bien p\", \"location\": \"Caustic Comedy Club, Carouge\", \"theme\": \"theater\", \"genres\": [\"humour - stand-up\"]}, {\"date\": \"2024-05-18T10:00:00\", \"title\": \"Oh C\\'est Quoi \\\\u00c7a? | Raffaella Gardon - L\\'Encyclop\\\\u00e9die de la Parole\", \"description\": \"D\\\\u00e8s 2 ans. Voyage pour tout\\\\u00b7es-petit\\\\u00b7es dans une constellation de paroles\\\\r\\\\nCie \\\\u00c9chelle 1:1 - Nicolas\", \"location\": \"Th\\\\u00e9\\\\u00e2tre Am Stram Gram, Gen\\\\u00e8ve\", \"theme\": \"theater\", \"genres\": [\"Th\\\\u00e9\\\\u00e2tre\"]}, {\"date\": \"2024-05-18T10:00:00\", \"title\": \"Colorama\", \"description\": \"3-6 ans. Aujourd\\\\u2019hui tout est gris. Notre chanteuse a le cafard, elle voit tout en noir. Elle a envi\", \"location\": \"Grand Th\\\\u00e9\\\\u00e2tre de Gen\\\\u00e8ve (GTG), Gen\\\\u00e8ve\", \"theme\": \"music\", \"genres\": [\"Spectacle musical\"]}, {\"date\": \"2024-05-18T14:00:00\", \"title\": \"R\\\\u00e9sonne la Ville | Guy Schneider - Marquis\\\\u2019 McGee - Ivan Larson - H\\\\u00e9lo\\\\u00efse Dell\\\\u2019Ava Luna\", \"description\": \"D\\\\u00e9ambulation urbaine en musique et danse. Quatre \\\\u00e9tapes ponctuent la promenade, un p\\\\u00e9riple fantasm\\\\u00e9 \", \"location\": \"Plaine de Plainpalais, Gen\\\\u00e8ve\", \"theme\": \"other\", \"genres\": [\"Spectacle musical\", \"Performance\", \"Contemporaine\", \"hip-hop - danses urbaines\", \"Contemporaine\"]}, {\"date\": \"2024-05-18T15:00:00\", \"title\": \"Colorama\", \"description\": \"3-6 ans. Aujourd\\\\u2019hui tout est gris. Notre chanteuse a le cafard, elle voit tout en noir. Elle a envi\", \"location\": \"Grand Th\\\\u00e9\\\\u00e2tre de Gen\\\\u00e8ve (GTG), Gen\\\\u00e8ve\", \"theme\": \"music\", \"genres\": [\"Spectacle musical\"]}, {\"date\": \"2024-05-18T16:00:00\", \"title\": \"Oh C\\'est Quoi \\\\u00c7a? | Raffaella Gardon - L\\'Encyclop\\\\u00e9die de la Parole\", \"description\": \"D\\\\u00e8s 2 ans. Voyage pour tout\\\\u00b7es-petit\\\\u00b7es dans une constellation de paroles\\\\r\\\\nCie \\\\u00c9chelle 1:1 - Nicolas\", \"location\": \"Th\\\\u00e9\\\\u00e2tre Am Stram Gram, Gen\\\\u00e8ve\", \"theme\": \"theater\", \"genres\": [\"Th\\\\u00e9\\\\u00e2tre\"]}, {\"date\": \"2024-05-18T17:00:00\", \"title\": \"Holyshit Project\", \"description\": \"\\\\u00abEt si on faisait de l\\\\u2019or avec chacun des drames qui nous sont arriv\\\\u00e9s dans l\\\\u2019enfance ou dans nos vi\", \"location\": \"Th\\\\u00e9\\\\u00e2tre Les montreurs d\\'images, Gen\\\\u00e8ve\", \"theme\": \"other\", \"genres\": [\"Performance\"]}, {\"date\": \"2024-05-18T19:00:00\", \"title\": \"L\\\\u2019Union indestructible des r\\\\u00e9publiques libres | Attilio Sandro Palese\", \"description\": \"A partir d\\'un fait divers dramatique na\\\\u00eet du th\\\\u00e9\\\\u00e2tre dans du th\\\\u00e9\\\\u00e2tre, une tragi-com\\\\u00e9die qui suppose \", \"location\": \"Th\\\\u00e9\\\\u00e2tre Saint-Gervais, Gen\\\\u00e8ve\", \"theme\": \"theater\", \"genres\": [\"Th\\\\u00e9\\\\u00e2tre\"]}, {\"date\": \"2024-05-18T19:00:00\", \"title\": \"Lucas Hueso | Essai\", \"description\": \"Essai c\\\\u2019est le fruit du constat suivant: peu importe les choix que tu prends dans la vie, \\\\u00e0 la base,\", \"location\": \"Caustic Comedy Club, Carouge\", \"theme\": \"theater\", \"genres\": [\"humour - stand-up\"]}, {\"date\": \"2024-05-18T19:00:00\", \"title\": \"Tous les po\\\\u00e8tes habitent Valparaiso - Cie STT\", \"description\": \"Les po\\\\u00e8mes de jeunesse d\\'un journaliste genevois se retrouvent \\\\u00e0 son insu dans la presse chilienne, \", \"location\": \"Les Amis musiqueth\\\\u00e9\\\\u00e2tre, Carouge\", \"theme\": \"theater\", \"genres\": [\"Th\\\\u00e9\\\\u00e2tre\"]}, {\"date\": \"2024-05-18T20:00:00\", \"title\": \"La Famille Don Juan | Cie Comiqu\\'op\\\\u00e9ra\", \"description\": \"Il s\\\\u2019affiche comme le plus c\\\\u00e9l\\\\u00e8bre des s\\\\u00e9ducteurs, un mythe \\\\u00e0 lui tout seul, une star hollywoodienne\", \"location\": \"Th\\\\u00e9\\\\u00e2tre Le Cr\\\\u00e8ve-C\\\\u0153ur, Cologny\", \"theme\": \"other\", \"genres\": [\"Op\\\\u00e9ra / Op\\\\u00e9rette\", \"humour - stand-up\"]}, {\"date\": \"2024-05-18T20:00:00\", \"title\": \"J\\\\u2019\\\\u00e9tais dans ma maison et j\\\\u2019attendais que la pluie vienne | Jean-Luc Lagarce - Elidan Arzoni\", \"description\": \"L\\\\u2019un des grands textes de l\\\\u2019auteur de \\\\u00abJuste la fin du monde\\\\u00bb servi par une brillante distribution m\", \"location\": \"Th\\\\u00e9\\\\u00e2tre du Galpon, Gen\\\\u00e8ve\", \"theme\": \"theater\", \"genres\": [\"Th\\\\u00e9\\\\u00e2tre\"]}, {\"date\": \"2024-05-18T20:00:00\", \"title\": \"Dans tes bras \\\\u00e0 jamais | Marie-Claude Pietragalla - Geneva Camerata\", \"description\": \"GECA r\\\\u00e9alise l\\\\u2019inconcevable : quarante-cinq musiciennes et musiciens jouent sans partitions la titan\", \"location\": \"B\\\\u00e2timent des Forces Motrices (BFM), Gen\\\\u00e8ve\", \"theme\": \"other\", \"genres\": [\"Classique / Baroque\", \"Jazz / Blues\"]}, {\"date\": \"2024-05-18T20:00:00\", \"title\": \"Parafernalia | Maria Fernanda Ordo\\\\u00f1ez\", \"description\": \"Entre le clown contemporain, le th\\\\u00e9\\\\u00e2tre de marionnettes et le stand up, Maria Fernanda Ordo\\\\u00f1ez nous \", \"location\": \"Th\\\\u00e9\\\\u00e2tre de l\\\\u2019Usine (TU), Gen\\\\u00e8ve\", \"theme\": \"other\", \"genres\": [\"Performance\", \"Autre genre th\\\\u00e9\\\\u00e2tral\"]}, {\"date\": \"2024-05-18T20:00:00\", \"title\": \"Les Cadets de Gen\\\\u00e8ve\", \"description\": \"Un concert des Cadets de Gen\\\\u00e8ve\", \"location\": \"Victoria Hall, Gen\\\\u00e8ve\", \"theme\": \"music\", \"genres\": [\"Classique / Baroque\"]}, {\"date\": \"2024-05-18T20:00:00\", \"title\": \"Ladies in The Dark | Smoky Cabaret - H\\\\u00e9l\\\\u00e8ne Escriva\", \"description\": \"\\\\u00abDans les sous-sols d\\\\u2019un cabaret clandestin, on se berce avec la rumeur d\\\\u2019un accord\\\\u00e9on d\\\\u00e9fra\\\\u00eechi et \", \"location\": \"Salle Trocm\\\\u00e9, Gen\\\\u00e8ve\", \"theme\": \"music\", \"genres\": [\"Op\\\\u00e9ra / Op\\\\u00e9rette\", \"Classique / Baroque\"]}, {\"date\": \"2024-05-18T20:00:00\", \"title\": \"Autant d\\'astres dans les cieux | Compagnie Esperluette\", \"description\": \"Le trio propose un programme de musique de chambre, dont deux splendides trios sign\\\\u00e9s Rheinberger et\", \"location\": \"Eglise de Sainte-Th\\\\u00e9r\\\\u00e8se, Gen\\\\u00e8ve\", \"theme\": \"music\", \"genres\": [\"Classique / Baroque\"]}, {\"date\": \"2024-05-18T20:00:00\", \"title\": \"L\\\\u2019autre | M\\\\u00e9lanie Chappuis - Christian Gregori\", \"description\": \"Deux femmes se rencontrent dans un caf\\\\u00e9. Alessandra et Nelly sont respectivement l\\\\u2019\\\\u00e9pouse et la ma\\\\u00eet\", \"location\": \"Th\\\\u00e9\\\\u00e2tricul, Ch\\\\u00eane-Bourg\", \"theme\": \"theater\", \"genres\": [\"Th\\\\u00e9\\\\u00e2tre\"]}, {\"date\": \"2024-05-18T20:30:00\", \"title\": \"Le Chant du Signe... Un Cantique des Cantiques | Polina Eremina\", \"description\": \"D\\\\u00e8s 14 ans. Le Cantique des Cantiques: \\\\\"A partir de cette \\\\u0153uvre incommensurable et divine, je me lan\", \"location\": \"La Com\\\\u00e9die de Ferney-Voltaire, Ferney-Voltaire - France\", \"theme\": \"theater\", \"genres\": [\"Th\\\\u00e9\\\\u00e2tre\"]}, {\"date\": \"2024-05-18T21:30:00\", \"title\": \"Stand Up Secret\", \"description\": \"Une fois par mois, le Caustic te propose une soir\\\\u00e9e surprise \\\\u00e0 l\\'Audio Club de Gen\\\\u00e8ve: un stand up s\", \"location\": \"Audio Club, Gen\\\\u00e8ve\", \"theme\": \"theater\", \"genres\": [\"humour - stand-up\"]}, {\"date\": \"2024-05-19T10:00:00\", \"title\": \"Oh C\\'est Quoi \\\\u00c7a? | Raffaella Gardon - L\\'Encyclop\\\\u00e9die de la Parole\", \"description\": \"D\\\\u00e8s 2 ans. Voyage pour tout\\\\u00b7es-petit\\\\u00b7es dans une constellation de paroles\\\\r\\\\nCie \\\\u00c9chelle 1:1 - Nicolas\", \"location\": \"Th\\\\u00e9\\\\u00e2tre Am Stram Gram, Gen\\\\u00e8ve\", \"theme\": \"theater\", \"genres\": [\"Th\\\\u00e9\\\\u00e2tre\"]}, {\"date\": \"2024-05-19T16:00:00\", \"title\": \"Oh C\\'est Quoi \\\\u00c7a? | Raffaella Gardon - L\\'Encyclop\\\\u00e9die de la Parole\", \"description\": \"D\\\\u00e8s 2 ans. Voyage pour tout\\\\u00b7es-petit\\\\u00b7es dans une constellation de paroles\\\\r\\\\nCie \\\\u00c9chelle 1:1 - Nicolas\", \"location\": \"Th\\\\u00e9\\\\u00e2tre Am Stram Gram, Gen\\\\u00e8ve\", \"theme\": \"theater\", \"genres\": [\"Th\\\\u00e9\\\\u00e2tre\"]}, {\"date\": \"2024-05-19T17:00:00\", \"title\": \"L\\\\u2019Union indestructible des r\\\\u00e9publiques libres | Attilio Sandro Palese\", \"description\": \"A partir d\\'un fait divers dramatique na\\\\u00eet du th\\\\u00e9\\\\u00e2tre dans du th\\\\u00e9\\\\u00e2tre, une tragi-com\\\\u00e9die qui suppose \", \"location\": \"Th\\\\u00e9\\\\u00e2tre Saint-Gervais, Gen\\\\u00e8ve\", \"theme\": \"theater\", \"genres\": [\"Th\\\\u00e9\\\\u00e2tre\"]}, {\"date\": \"2024-05-19T17:00:00\", \"title\": \"Le Chant du Signe... Un Cantique des Cantiques | Polina Eremina\", \"description\": \"D\\\\u00e8s 14 ans. Le Cantique des Cantiques: \\\\\"A partir de cette \\\\u0153uvre incommensurable et divine, je me lan\", \"location\": \"La Com\\\\u00e9die de Ferney-Voltaire, Ferney-Voltaire - France\", \"theme\": \"theater\", \"genres\": [\"Th\\\\u00e9\\\\u00e2tre\"]}, {\"date\": \"2024-05-19T17:00:00\", \"title\": \"Holyshit Project\", \"description\": \"\\\\u00abEt si on faisait de l\\\\u2019or avec chacun des drames qui nous sont arriv\\\\u00e9s dans l\\\\u2019enfance ou dans nos vi\", \"location\": \"Th\\\\u00e9\\\\u00e2tre Les montreurs d\\'images, Gen\\\\u00e8ve\", \"theme\": \"other\", \"genres\": [\"Performance\"]}, {\"date\": \"2024-05-19T17:00:00\", \"title\": \"L\\\\u2019autre | M\\\\u00e9lanie Chappuis - Christian Gregori\", \"description\": \"Deux femmes se rencontrent dans un caf\\\\u00e9. Alessandra et Nelly sont respectivement l\\\\u2019\\\\u00e9pouse et la ma\\\\u00eet\", \"location\": \"Th\\\\u00e9\\\\u00e2tricul, Ch\\\\u00eane-Bourg\", \"theme\": \"theater\", \"genres\": [\"Th\\\\u00e9\\\\u00e2tre\"]}, {\"date\": \"2024-05-19T17:00:00\", \"title\": \"Tous les po\\\\u00e8tes habitent Valparaiso - Cie STT\", \"description\": \"Les po\\\\u00e8mes de jeunesse d\\'un journaliste genevois se retrouvent \\\\u00e0 son insu dans la presse chilienne, \", \"location\": \"Les Amis musiqueth\\\\u00e9\\\\u00e2tre, Carouge\", \"theme\": \"theater\", \"genres\": [\"Th\\\\u00e9\\\\u00e2tre\"]}, {\"date\": \"2024-05-19T18:00:00\", \"title\": \"La Famille Don Juan | Cie Comiqu\\'op\\\\u00e9ra\", \"description\": \"Il s\\\\u2019affiche comme le plus c\\\\u00e9l\\\\u00e8bre des s\\\\u00e9ducteurs, un mythe \\\\u00e0 lui tout seul, une star hollywoodienne\", \"location\": \"Th\\\\u00e9\\\\u00e2tre Le Cr\\\\u00e8ve-C\\\\u0153ur, Cologny\", \"theme\": \"other\", \"genres\": [\"Op\\\\u00e9ra / Op\\\\u00e9rette\", \"humour - stand-up\"]}, {\"date\": \"2024-05-19T18:00:00\", \"title\": \"J\\\\u2019\\\\u00e9tais dans ma maison et j\\\\u2019attendais que la pluie vienne | Jean-Luc Lagarce - Elidan Arzoni\", \"description\": \"L\\\\u2019un des grands textes de l\\\\u2019auteur de \\\\u00abJuste la fin du monde\\\\u00bb servi par une brillante distribution m\", \"location\": \"Th\\\\u00e9\\\\u00e2tre du Galpon, Gen\\\\u00e8ve\", \"theme\": \"theater\", \"genres\": [\"Th\\\\u00e9\\\\u00e2tre\"]}, {\"date\": \"2024-05-19T19:00:00\", \"title\": \"Parafernalia | Maria Fernanda Ordo\\\\u00f1ez\", \"description\": \"Entre le clown contemporain, le th\\\\u00e9\\\\u00e2tre de marionnettes et le stand up, Maria Fernanda Ordo\\\\u00f1ez nous \", \"location\": \"Th\\\\u00e9\\\\u00e2tre de l\\\\u2019Usine (TU), Gen\\\\u00e8ve\", \"theme\": \"other\", \"genres\": [\"Performance\", \"Autre genre th\\\\u00e9\\\\u00e2tral\"]}]'"
            ],
            "application/vnd.google.colaboratory.intrinsic+json": {
              "type": "string"
            }
          },
          "metadata": {},
          "execution_count": 60
        }
      ]
    },
    {
      "cell_type": "markdown",
      "source": [
        "We may need it in a more textual form, let's try again:"
      ],
      "metadata": {
        "id": "T2-svqlMANAy"
      }
    },
    {
      "cell_type": "code",
      "source": [
        "def get_textual_form(spectacle):\n",
        "  ret = ''\n",
        "  ret += 'Event title: ' + spectacle.title\n",
        "  ret += '\\nHappening at: ' + spectacle.date.isoformat()\n",
        "  ret += '\\nLocation: ' + spectacle.location\n",
        "  ret += '\\nTheme: ' + spectacle.theme\n",
        "  ret += '\\nGenres: ' + \", \".join(spectacle.genres)\n",
        "  ret += '\\n\\n'\n",
        "  return ret"
      ],
      "metadata": {
        "id": "iTTRbPcoARcg"
      },
      "execution_count": 66,
      "outputs": []
    },
    {
      "cell_type": "code",
      "source": [
        "all_spectacles_text = '\\n'.join([get_textual_form(spectacle) for spectacle in spectacles])\n",
        "all_spectacles_text\n",
        "len(all_spectacles_text)"
      ],
      "metadata": {
        "colab": {
          "base_uri": "https://localhost:8080/"
        },
        "id": "tbNtG2tfAoIo",
        "outputId": "a9cccf59-9104-479a-f9e6-0de73b666cb7"
      },
      "execution_count": 67,
      "outputs": [
        {
          "output_type": "execute_result",
          "data": {
            "text/plain": [
              "17386"
            ]
          },
          "metadata": {},
          "execution_count": 67
        }
      ]
    },
    {
      "cell_type": "markdown",
      "source": [
        "# Feeding it to Llama3\n",
        "We have the data in a structured format now. The idea is now to actually query it with questions like \"how many spectacles are there on Monday\" or \"where can I go listen to Jazz\". My first goal is to get the answer out directly. If I can do that, then the next goal would be to have a simple query language and let the model create expressions in that. That second part is how I actually see using this, but that is where the challenge lies.\n",
        "\n",
        "Ok, first things first, get dependencies for transformers and torch"
      ],
      "metadata": {
        "id": "qrSkqz8szFxK"
      }
    },
    {
      "cell_type": "code",
      "source": [
        "!pip install transformers torch accelerate"
      ],
      "metadata": {
        "colab": {
          "base_uri": "https://localhost:8080/"
        },
        "id": "JDFxjrmO1NFs",
        "outputId": "da6c22b5-fdcf-41f3-9eeb-fd175ffd792b"
      },
      "execution_count": 20,
      "outputs": [
        {
          "output_type": "stream",
          "name": "stdout",
          "text": [
            "Requirement already satisfied: transformers in /usr/local/lib/python3.10/dist-packages (4.40.2)\n",
            "Requirement already satisfied: torch in /usr/local/lib/python3.10/dist-packages (2.2.1+cu121)\n",
            "Requirement already satisfied: accelerate in /usr/local/lib/python3.10/dist-packages (0.30.1)\n",
            "Requirement already satisfied: filelock in /usr/local/lib/python3.10/dist-packages (from transformers) (3.14.0)\n",
            "Requirement already satisfied: huggingface-hub<1.0,>=0.19.3 in /usr/local/lib/python3.10/dist-packages (from transformers) (0.20.3)\n",
            "Requirement already satisfied: numpy>=1.17 in /usr/local/lib/python3.10/dist-packages (from transformers) (1.25.2)\n",
            "Requirement already satisfied: packaging>=20.0 in /usr/local/lib/python3.10/dist-packages (from transformers) (24.0)\n",
            "Requirement already satisfied: pyyaml>=5.1 in /usr/local/lib/python3.10/dist-packages (from transformers) (6.0.1)\n",
            "Requirement already satisfied: regex!=2019.12.17 in /usr/local/lib/python3.10/dist-packages (from transformers) (2023.12.25)\n",
            "Requirement already satisfied: requests in /usr/local/lib/python3.10/dist-packages (from transformers) (2.31.0)\n",
            "Requirement already satisfied: tokenizers<0.20,>=0.19 in /usr/local/lib/python3.10/dist-packages (from transformers) (0.19.1)\n",
            "Requirement already satisfied: safetensors>=0.4.1 in /usr/local/lib/python3.10/dist-packages (from transformers) (0.4.3)\n",
            "Requirement already satisfied: tqdm>=4.27 in /usr/local/lib/python3.10/dist-packages (from transformers) (4.66.4)\n",
            "Requirement already satisfied: typing-extensions>=4.8.0 in /usr/local/lib/python3.10/dist-packages (from torch) (4.11.0)\n",
            "Requirement already satisfied: sympy in /usr/local/lib/python3.10/dist-packages (from torch) (1.12)\n",
            "Requirement already satisfied: networkx in /usr/local/lib/python3.10/dist-packages (from torch) (3.3)\n",
            "Requirement already satisfied: jinja2 in /usr/local/lib/python3.10/dist-packages (from torch) (3.1.4)\n",
            "Requirement already satisfied: fsspec in /usr/local/lib/python3.10/dist-packages (from torch) (2023.6.0)\n",
            "Requirement already satisfied: nvidia-cuda-nvrtc-cu12==12.1.105 in /usr/local/lib/python3.10/dist-packages (from torch) (12.1.105)\n",
            "Requirement already satisfied: nvidia-cuda-runtime-cu12==12.1.105 in /usr/local/lib/python3.10/dist-packages (from torch) (12.1.105)\n",
            "Requirement already satisfied: nvidia-cuda-cupti-cu12==12.1.105 in /usr/local/lib/python3.10/dist-packages (from torch) (12.1.105)\n",
            "Requirement already satisfied: nvidia-cudnn-cu12==8.9.2.26 in /usr/local/lib/python3.10/dist-packages (from torch) (8.9.2.26)\n",
            "Requirement already satisfied: nvidia-cublas-cu12==12.1.3.1 in /usr/local/lib/python3.10/dist-packages (from torch) (12.1.3.1)\n",
            "Requirement already satisfied: nvidia-cufft-cu12==11.0.2.54 in /usr/local/lib/python3.10/dist-packages (from torch) (11.0.2.54)\n",
            "Requirement already satisfied: nvidia-curand-cu12==10.3.2.106 in /usr/local/lib/python3.10/dist-packages (from torch) (10.3.2.106)\n",
            "Requirement already satisfied: nvidia-cusolver-cu12==11.4.5.107 in /usr/local/lib/python3.10/dist-packages (from torch) (11.4.5.107)\n",
            "Requirement already satisfied: nvidia-cusparse-cu12==12.1.0.106 in /usr/local/lib/python3.10/dist-packages (from torch) (12.1.0.106)\n",
            "Requirement already satisfied: nvidia-nccl-cu12==2.19.3 in /usr/local/lib/python3.10/dist-packages (from torch) (2.19.3)\n",
            "Requirement already satisfied: nvidia-nvtx-cu12==12.1.105 in /usr/local/lib/python3.10/dist-packages (from torch) (12.1.105)\n",
            "Requirement already satisfied: triton==2.2.0 in /usr/local/lib/python3.10/dist-packages (from torch) (2.2.0)\n",
            "Requirement already satisfied: nvidia-nvjitlink-cu12 in /usr/local/lib/python3.10/dist-packages (from nvidia-cusolver-cu12==11.4.5.107->torch) (12.4.127)\n",
            "Requirement already satisfied: psutil in /usr/local/lib/python3.10/dist-packages (from accelerate) (5.9.5)\n",
            "Requirement already satisfied: MarkupSafe>=2.0 in /usr/local/lib/python3.10/dist-packages (from jinja2->torch) (2.1.5)\n",
            "Requirement already satisfied: charset-normalizer<4,>=2 in /usr/local/lib/python3.10/dist-packages (from requests->transformers) (3.3.2)\n",
            "Requirement already satisfied: idna<4,>=2.5 in /usr/local/lib/python3.10/dist-packages (from requests->transformers) (3.7)\n",
            "Requirement already satisfied: urllib3<3,>=1.21.1 in /usr/local/lib/python3.10/dist-packages (from requests->transformers) (2.0.7)\n",
            "Requirement already satisfied: certifi>=2017.4.17 in /usr/local/lib/python3.10/dist-packages (from requests->transformers) (2024.2.2)\n",
            "Requirement already satisfied: mpmath>=0.19 in /usr/local/lib/python3.10/dist-packages (from sympy->torch) (1.3.0)\n"
          ]
        }
      ]
    },
    {
      "cell_type": "code",
      "source": [
        "import transformers\n",
        "import torch\n",
        "\n",
        "model_id = \"meta-llama/Meta-Llama-3-8B-Instruct\"\n",
        "\n",
        "pipeline = transformers.pipeline(\n",
        "    \"text-generation\",\n",
        "    model=model_id,\n",
        "    model_kwargs={\"torch_dtype\": torch.bfloat16},\n",
        "    device_map=\"auto\",\n",
        ")\n",
        "\n",
        "messages = [\n",
        "    {\"role\": \"system\", \"content\": \"You are an assistant helping me to decide which event to go see.\" +\n",
        "     \"The allowed events are listed below:\\n\\n\"  + all_spectacles_text},\n",
        "    {\"role\": \"user\", \"content\": \"What events can I go see in Onex?\"},\n",
        "]\n",
        "\n",
        "prompt = pipeline.tokenizer.apply_chat_template(\n",
        "        messages,\n",
        "        tokenize=False,\n",
        "        add_generation_prompt=True\n",
        ")\n",
        "\n",
        "terminators = [\n",
        "    pipeline.tokenizer.eos_token_id,\n",
        "    pipeline.tokenizer.convert_tokens_to_ids(\"<|eot_id|>\")\n",
        "]\n",
        "\n",
        "outputs = pipeline(\n",
        "    prompt,\n",
        "    max_new_tokens=256,\n",
        "    eos_token_id=terminators,\n",
        "    do_sample=True,\n",
        "    temperature=0.6,\n",
        "    top_p=0.9,\n",
        ")\n",
        "print(outputs[0][\"generated_text\"][len(prompt):])"
      ],
      "metadata": {
        "colab": {
          "base_uri": "https://localhost:8080/",
          "height": 205,
          "referenced_widgets": [
            "1fd3fd89fee248abb5c81e0ecd867315",
            "19e20af83ea149e08431b0403e30cdaa",
            "2a81706fe6b24cab8b2eb1b34632a674",
            "f6125d6303a8421f80e8a14951199d40",
            "4536f3efaf744454907965d26e3b3bd6",
            "60897f26f4ee45559ebb32bf6260c598",
            "42b667c5fa184432ab0a9d9859bbd5e8",
            "9a873cf5c84a4501b4534056979a1743",
            "1b85e96306d8419e9ace4b3568529da0",
            "69ca70b97bcd442ba532270fc6c281eb",
            "2963126e56ef4a5697326897b021042b"
          ]
        },
        "id": "a6KZp2PS2HJM",
        "outputId": "a6fad0ba-b0f1-4720-df3b-5f5480280e06"
      },
      "execution_count": 68,
      "outputs": [
        {
          "output_type": "stream",
          "name": "stderr",
          "text": [
            "/usr/local/lib/python3.10/dist-packages/accelerate/utils/modeling.py:1365: UserWarning: Current model requires 125832960 bytes of buffer for offloaded layers, which seems does not fit any GPU's remaining memory. If you are experiencing a OOM later, please consider using offload_buffers=True.\n",
            "  warnings.warn(\n"
          ]
        },
        {
          "output_type": "display_data",
          "data": {
            "text/plain": [
              "Loading checkpoint shards:   0%|          | 0/4 [00:00<?, ?it/s]"
            ],
            "application/vnd.jupyter.widget-view+json": {
              "version_major": 2,
              "version_minor": 0,
              "model_id": "1fd3fd89fee248abb5c81e0ecd867315"
            }
          },
          "metadata": {}
        },
        {
          "output_type": "stream",
          "name": "stderr",
          "text": [
            "WARNING:root:Some parameters are on the meta device device because they were offloaded to the cpu.\n",
            "Special tokens have been added in the vocabulary, make sure the associated word embeddings are fine-tuned or trained.\n",
            "Setting `pad_token_id` to `eos_token_id`:128009 for open-end generation.\n"
          ]
        },
        {
          "output_type": "stream",
          "name": "stdout",
          "text": [
            "According to the list of events, there is one event happening in Onex:\n",
            "\n",
            "* Anne Roumanoff | L'expérience de la vie (May 14th, 20:00) at Salle communale d'Onex\n"
          ]
        }
      ]
    }
  ],
  "metadata": {
    "language_info": {
      "name": "python"
    },
    "colab": {
      "provenance": [],
      "machine_shape": "hm",
      "gpuType": "A100",
      "include_colab_link": true
    },
    "kernelspec": {
      "name": "python3",
      "display_name": "Python 3"
    },
    "accelerator": "GPU",
    "widgets": {
      "application/vnd.jupyter.widget-state+json": {
        "1fd3fd89fee248abb5c81e0ecd867315": {
          "model_module": "@jupyter-widgets/controls",
          "model_name": "HBoxModel",
          "model_module_version": "1.5.0",
          "state": {
            "_dom_classes": [],
            "_model_module": "@jupyter-widgets/controls",
            "_model_module_version": "1.5.0",
            "_model_name": "HBoxModel",
            "_view_count": null,
            "_view_module": "@jupyter-widgets/controls",
            "_view_module_version": "1.5.0",
            "_view_name": "HBoxView",
            "box_style": "",
            "children": [
              "IPY_MODEL_19e20af83ea149e08431b0403e30cdaa",
              "IPY_MODEL_2a81706fe6b24cab8b2eb1b34632a674",
              "IPY_MODEL_f6125d6303a8421f80e8a14951199d40"
            ],
            "layout": "IPY_MODEL_4536f3efaf744454907965d26e3b3bd6"
          }
        },
        "19e20af83ea149e08431b0403e30cdaa": {
          "model_module": "@jupyter-widgets/controls",
          "model_name": "HTMLModel",
          "model_module_version": "1.5.0",
          "state": {
            "_dom_classes": [],
            "_model_module": "@jupyter-widgets/controls",
            "_model_module_version": "1.5.0",
            "_model_name": "HTMLModel",
            "_view_count": null,
            "_view_module": "@jupyter-widgets/controls",
            "_view_module_version": "1.5.0",
            "_view_name": "HTMLView",
            "description": "",
            "description_tooltip": null,
            "layout": "IPY_MODEL_60897f26f4ee45559ebb32bf6260c598",
            "placeholder": "​",
            "style": "IPY_MODEL_42b667c5fa184432ab0a9d9859bbd5e8",
            "value": "Loading checkpoint shards: 100%"
          }
        },
        "2a81706fe6b24cab8b2eb1b34632a674": {
          "model_module": "@jupyter-widgets/controls",
          "model_name": "FloatProgressModel",
          "model_module_version": "1.5.0",
          "state": {
            "_dom_classes": [],
            "_model_module": "@jupyter-widgets/controls",
            "_model_module_version": "1.5.0",
            "_model_name": "FloatProgressModel",
            "_view_count": null,
            "_view_module": "@jupyter-widgets/controls",
            "_view_module_version": "1.5.0",
            "_view_name": "ProgressView",
            "bar_style": "success",
            "description": "",
            "description_tooltip": null,
            "layout": "IPY_MODEL_9a873cf5c84a4501b4534056979a1743",
            "max": 4,
            "min": 0,
            "orientation": "horizontal",
            "style": "IPY_MODEL_1b85e96306d8419e9ace4b3568529da0",
            "value": 4
          }
        },
        "f6125d6303a8421f80e8a14951199d40": {
          "model_module": "@jupyter-widgets/controls",
          "model_name": "HTMLModel",
          "model_module_version": "1.5.0",
          "state": {
            "_dom_classes": [],
            "_model_module": "@jupyter-widgets/controls",
            "_model_module_version": "1.5.0",
            "_model_name": "HTMLModel",
            "_view_count": null,
            "_view_module": "@jupyter-widgets/controls",
            "_view_module_version": "1.5.0",
            "_view_name": "HTMLView",
            "description": "",
            "description_tooltip": null,
            "layout": "IPY_MODEL_69ca70b97bcd442ba532270fc6c281eb",
            "placeholder": "​",
            "style": "IPY_MODEL_2963126e56ef4a5697326897b021042b",
            "value": " 4/4 [00:02&lt;00:00,  2.37it/s]"
          }
        },
        "4536f3efaf744454907965d26e3b3bd6": {
          "model_module": "@jupyter-widgets/base",
          "model_name": "LayoutModel",
          "model_module_version": "1.2.0",
          "state": {
            "_model_module": "@jupyter-widgets/base",
            "_model_module_version": "1.2.0",
            "_model_name": "LayoutModel",
            "_view_count": null,
            "_view_module": "@jupyter-widgets/base",
            "_view_module_version": "1.2.0",
            "_view_name": "LayoutView",
            "align_content": null,
            "align_items": null,
            "align_self": null,
            "border": null,
            "bottom": null,
            "display": null,
            "flex": null,
            "flex_flow": null,
            "grid_area": null,
            "grid_auto_columns": null,
            "grid_auto_flow": null,
            "grid_auto_rows": null,
            "grid_column": null,
            "grid_gap": null,
            "grid_row": null,
            "grid_template_areas": null,
            "grid_template_columns": null,
            "grid_template_rows": null,
            "height": null,
            "justify_content": null,
            "justify_items": null,
            "left": null,
            "margin": null,
            "max_height": null,
            "max_width": null,
            "min_height": null,
            "min_width": null,
            "object_fit": null,
            "object_position": null,
            "order": null,
            "overflow": null,
            "overflow_x": null,
            "overflow_y": null,
            "padding": null,
            "right": null,
            "top": null,
            "visibility": null,
            "width": null
          }
        },
        "60897f26f4ee45559ebb32bf6260c598": {
          "model_module": "@jupyter-widgets/base",
          "model_name": "LayoutModel",
          "model_module_version": "1.2.0",
          "state": {
            "_model_module": "@jupyter-widgets/base",
            "_model_module_version": "1.2.0",
            "_model_name": "LayoutModel",
            "_view_count": null,
            "_view_module": "@jupyter-widgets/base",
            "_view_module_version": "1.2.0",
            "_view_name": "LayoutView",
            "align_content": null,
            "align_items": null,
            "align_self": null,
            "border": null,
            "bottom": null,
            "display": null,
            "flex": null,
            "flex_flow": null,
            "grid_area": null,
            "grid_auto_columns": null,
            "grid_auto_flow": null,
            "grid_auto_rows": null,
            "grid_column": null,
            "grid_gap": null,
            "grid_row": null,
            "grid_template_areas": null,
            "grid_template_columns": null,
            "grid_template_rows": null,
            "height": null,
            "justify_content": null,
            "justify_items": null,
            "left": null,
            "margin": null,
            "max_height": null,
            "max_width": null,
            "min_height": null,
            "min_width": null,
            "object_fit": null,
            "object_position": null,
            "order": null,
            "overflow": null,
            "overflow_x": null,
            "overflow_y": null,
            "padding": null,
            "right": null,
            "top": null,
            "visibility": null,
            "width": null
          }
        },
        "42b667c5fa184432ab0a9d9859bbd5e8": {
          "model_module": "@jupyter-widgets/controls",
          "model_name": "DescriptionStyleModel",
          "model_module_version": "1.5.0",
          "state": {
            "_model_module": "@jupyter-widgets/controls",
            "_model_module_version": "1.5.0",
            "_model_name": "DescriptionStyleModel",
            "_view_count": null,
            "_view_module": "@jupyter-widgets/base",
            "_view_module_version": "1.2.0",
            "_view_name": "StyleView",
            "description_width": ""
          }
        },
        "9a873cf5c84a4501b4534056979a1743": {
          "model_module": "@jupyter-widgets/base",
          "model_name": "LayoutModel",
          "model_module_version": "1.2.0",
          "state": {
            "_model_module": "@jupyter-widgets/base",
            "_model_module_version": "1.2.0",
            "_model_name": "LayoutModel",
            "_view_count": null,
            "_view_module": "@jupyter-widgets/base",
            "_view_module_version": "1.2.0",
            "_view_name": "LayoutView",
            "align_content": null,
            "align_items": null,
            "align_self": null,
            "border": null,
            "bottom": null,
            "display": null,
            "flex": null,
            "flex_flow": null,
            "grid_area": null,
            "grid_auto_columns": null,
            "grid_auto_flow": null,
            "grid_auto_rows": null,
            "grid_column": null,
            "grid_gap": null,
            "grid_row": null,
            "grid_template_areas": null,
            "grid_template_columns": null,
            "grid_template_rows": null,
            "height": null,
            "justify_content": null,
            "justify_items": null,
            "left": null,
            "margin": null,
            "max_height": null,
            "max_width": null,
            "min_height": null,
            "min_width": null,
            "object_fit": null,
            "object_position": null,
            "order": null,
            "overflow": null,
            "overflow_x": null,
            "overflow_y": null,
            "padding": null,
            "right": null,
            "top": null,
            "visibility": null,
            "width": null
          }
        },
        "1b85e96306d8419e9ace4b3568529da0": {
          "model_module": "@jupyter-widgets/controls",
          "model_name": "ProgressStyleModel",
          "model_module_version": "1.5.0",
          "state": {
            "_model_module": "@jupyter-widgets/controls",
            "_model_module_version": "1.5.0",
            "_model_name": "ProgressStyleModel",
            "_view_count": null,
            "_view_module": "@jupyter-widgets/base",
            "_view_module_version": "1.2.0",
            "_view_name": "StyleView",
            "bar_color": null,
            "description_width": ""
          }
        },
        "69ca70b97bcd442ba532270fc6c281eb": {
          "model_module": "@jupyter-widgets/base",
          "model_name": "LayoutModel",
          "model_module_version": "1.2.0",
          "state": {
            "_model_module": "@jupyter-widgets/base",
            "_model_module_version": "1.2.0",
            "_model_name": "LayoutModel",
            "_view_count": null,
            "_view_module": "@jupyter-widgets/base",
            "_view_module_version": "1.2.0",
            "_view_name": "LayoutView",
            "align_content": null,
            "align_items": null,
            "align_self": null,
            "border": null,
            "bottom": null,
            "display": null,
            "flex": null,
            "flex_flow": null,
            "grid_area": null,
            "grid_auto_columns": null,
            "grid_auto_flow": null,
            "grid_auto_rows": null,
            "grid_column": null,
            "grid_gap": null,
            "grid_row": null,
            "grid_template_areas": null,
            "grid_template_columns": null,
            "grid_template_rows": null,
            "height": null,
            "justify_content": null,
            "justify_items": null,
            "left": null,
            "margin": null,
            "max_height": null,
            "max_width": null,
            "min_height": null,
            "min_width": null,
            "object_fit": null,
            "object_position": null,
            "order": null,
            "overflow": null,
            "overflow_x": null,
            "overflow_y": null,
            "padding": null,
            "right": null,
            "top": null,
            "visibility": null,
            "width": null
          }
        },
        "2963126e56ef4a5697326897b021042b": {
          "model_module": "@jupyter-widgets/controls",
          "model_name": "DescriptionStyleModel",
          "model_module_version": "1.5.0",
          "state": {
            "_model_module": "@jupyter-widgets/controls",
            "_model_module_version": "1.5.0",
            "_model_name": "DescriptionStyleModel",
            "_view_count": null,
            "_view_module": "@jupyter-widgets/base",
            "_view_module_version": "1.2.0",
            "_view_name": "StyleView",
            "description_width": ""
          }
        }
      }
    }
  },
  "nbformat": 4,
  "nbformat_minor": 0
}