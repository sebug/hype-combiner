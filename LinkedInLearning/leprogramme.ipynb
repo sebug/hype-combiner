{
  "cells": [
    {
      "cell_type": "markdown",
      "metadata": {
        "id": "view-in-github",
        "colab_type": "text"
      },
      "source": [
        "<a href=\"https://colab.research.google.com/github/sebug/hype-combiner/blob/main/LinkedInLearning/leprogramme.ipynb\" target=\"_parent\"><img src=\"https://colab.research.google.com/assets/colab-badge.svg\" alt=\"Open In Colab\"/></a>"
      ]
    },
    {
      "cell_type": "markdown",
      "source": [
        "# The Challenge\n",
        "Have a look at [Le Programme](https://leprogramme.ch/) - this is an events agenda for Geneva. We want to query it using natural language. The idea is to construct the search URL, and let you go there, but only if we constructed something valid. We can double check the combination between events returned and search query by filtering the full list as well - listing the events on the main page that match, and then finding a search clause that gives the most similar results.\n",
        "\n",
        "I don't know whether this works yet, and will be exploring a lot."
      ],
      "metadata": {
        "id": "ufC46UFeLvqB"
      }
    },
    {
      "cell_type": "markdown",
      "source": [
        "The first step is to determine the current week of the year. We use this to get the events we will train on."
      ],
      "metadata": {
        "id": "UoFgAXY1OrLF"
      }
    },
    {
      "cell_type": "code",
      "source": [
        "import datetime\n",
        "current_week = datetime.date.today().isocalendar().week\n",
        "current_year = datetime.date.today().isocalendar().year\n",
        "current_week_url = 'https://leprogramme.ch/agenda-culturel-de-la-semaine/Vaud/' + str(current_year) + '/' + str(current_week)\n",
        "current_week_url"
      ],
      "metadata": {
        "id": "bIMjC0JrPF12",
        "outputId": "7f828779-a27a-456f-c16c-4d3f74efca1b",
        "colab": {
          "base_uri": "https://localhost:8080/",
          "height": 35
        }
      },
      "execution_count": 1,
      "outputs": [
        {
          "output_type": "execute_result",
          "data": {
            "text/plain": [
              "'https://leprogramme.ch/agenda-culturel-de-la-semaine/Vaud/2024/20'"
            ],
            "application/vnd.google.colaboratory.intrinsic+json": {
              "type": "string"
            }
          },
          "metadata": {},
          "execution_count": 1
        }
      ]
    },
    {
      "cell_type": "code",
      "source": [
        "import urllib.request\n",
        "programme_response = urllib.request.urlopen(current_week_url)\n",
        "programme_content = programme_response.read()\n",
        "print(len(programme_content))"
      ],
      "metadata": {
        "colab": {
          "base_uri": "https://localhost:8080/"
        },
        "id": "c3WONBA3QfTx",
        "outputId": "6f98f25b-fe64-4bdd-8d2c-50a8ac638a41"
      },
      "execution_count": 34,
      "outputs": [
        {
          "output_type": "stream",
          "name": "stdout",
          "text": [
            "212976\n"
          ]
        }
      ]
    },
    {
      "cell_type": "markdown",
      "source": [
        "We will need beautifulsoup to analyze the page content"
      ],
      "metadata": {
        "id": "DIDmiX63P96a"
      }
    },
    {
      "cell_type": "code",
      "source": [
        "!pip install beautifulsoup4"
      ],
      "metadata": {
        "id": "RU_UXV4ZOpm1",
        "colab": {
          "base_uri": "https://localhost:8080/"
        },
        "outputId": "eb925722-a4e8-4379-f144-2545fc9de6ec"
      },
      "execution_count": 3,
      "outputs": [
        {
          "output_type": "stream",
          "name": "stdout",
          "text": [
            "Requirement already satisfied: beautifulsoup4 in /usr/local/lib/python3.10/dist-packages (4.12.3)\n",
            "Requirement already satisfied: soupsieve>1.2 in /usr/local/lib/python3.10/dist-packages (from beautifulsoup4) (2.5)\n"
          ]
        }
      ]
    },
    {
      "cell_type": "markdown",
      "source": [
        "Let us get the events"
      ],
      "metadata": {
        "id": "zBjLUJrtTpie"
      }
    },
    {
      "cell_type": "code",
      "execution_count": 4,
      "metadata": {
        "id": "UP0kb02XjuVs",
        "outputId": "f3c4af78-3958-44e7-dd5f-366e55ac35e0",
        "colab": {
          "base_uri": "https://localhost:8080/"
        }
      },
      "outputs": [
        {
          "output_type": "execute_result",
          "data": {
            "text/plain": [
              "99"
            ]
          },
          "metadata": {},
          "execution_count": 4
        }
      ],
      "source": [
        "from bs4 import BeautifulSoup\n",
        "programme_soup = BeautifulSoup(programme_content)\n",
        "spectacle_cards = [tag for tag in programme_soup.find_all('a', class_ = 'card-spectacle') ]\n",
        "len(spectacle_cards)"
      ]
    },
    {
      "cell_type": "markdown",
      "source": [
        "and inspect the first card, to see how we can extract the relevant information. We may have to look at the parent to see the date we are talking about."
      ],
      "metadata": {
        "id": "jDv9qdiWTtT0"
      }
    },
    {
      "cell_type": "code",
      "source": [
        "from datetime import datetime\n",
        "\n",
        "def get_datetime_from_card(card):\n",
        "  date_string = card.parent.parent.find('div', class_='spectacle-date').find('div', class_='day').get_text()\n",
        "\n",
        "  french_months = {\n",
        "    'Janvier': '01',\n",
        "    'Février': '02',\n",
        "    'Mars': '03',\n",
        "    'Avril': '04',\n",
        "    'Mai': '05',\n",
        "    'Juin': '06',\n",
        "    'Juillet': '07',\n",
        "    'Août': '08',\n",
        "    'Septembre': '09',\n",
        "    'Octobre': '10',\n",
        "    'Novembre': '11',\n",
        "    'Décembre': '12'\n",
        "  }\n",
        "\n",
        "  day, month_name, year = date_string.split()\n",
        "  month = french_months[month_name]\n",
        "\n",
        "  hour = card.find('div', class_ = 'card-date').get_text()\n",
        "\n",
        "  date_formatted = f\"{day} {month} {year} {hour}\"\n",
        "  date_object = datetime.strptime(date_formatted, \"%d %m %Y %H:%M\")\n",
        "  return date_object\n",
        "\n",
        "\n",
        "\n",
        "\n"
      ],
      "metadata": {
        "id": "YwtjGuwETyKl"
      },
      "execution_count": 5,
      "outputs": []
    },
    {
      "cell_type": "markdown",
      "source": [
        "We can test in on a specific card"
      ],
      "metadata": {
        "id": "MxdGthH9Zwkp"
      }
    },
    {
      "cell_type": "code",
      "source": [
        "get_datetime_from_card(spectacle_cards[0])"
      ],
      "metadata": {
        "id": "lJVfSUbyZynZ",
        "outputId": "047f92c7-a3c5-4aed-bd60-17bdf3a6452b",
        "colab": {
          "base_uri": "https://localhost:8080/"
        }
      },
      "execution_count": 6,
      "outputs": [
        {
          "output_type": "execute_result",
          "data": {
            "text/plain": [
              "datetime.datetime(2024, 5, 13, 20, 30)"
            ]
          },
          "metadata": {},
          "execution_count": 6
        }
      ]
    },
    {
      "cell_type": "markdown",
      "source": [
        "Now we also want to extract the rest, which can be found directly in the card"
      ],
      "metadata": {
        "id": "TA6-YVTBphmh"
      }
    },
    {
      "cell_type": "code",
      "source": [
        "def get_title_from_card(card):\n",
        "  card_title_element = card.find('h5', class_ = 'card-title')\n",
        "  return card_title_element.get_text()"
      ],
      "metadata": {
        "id": "QdlpBZd7p9IJ"
      },
      "execution_count": 10,
      "outputs": []
    },
    {
      "cell_type": "code",
      "source": [
        "get_title_from_card(spectacle_cards[0])"
      ],
      "metadata": {
        "colab": {
          "base_uri": "https://localhost:8080/",
          "height": 35
        },
        "id": "UroKZLVXpmAY",
        "outputId": "a81d9c95-e75d-4478-8bb8-42c00032d53b"
      },
      "execution_count": 11,
      "outputs": [
        {
          "output_type": "execute_result",
          "data": {
            "text/plain": [
              "'Double-Double'"
            ],
            "application/vnd.google.colaboratory.intrinsic+json": {
              "type": "string"
            }
          },
          "metadata": {},
          "execution_count": 11
        }
      ]
    },
    {
      "cell_type": "markdown",
      "source": [
        "The description will contain HTML but we are only interested in the text for now."
      ],
      "metadata": {
        "id": "u8DP2WXUqgUl"
      }
    },
    {
      "cell_type": "code",
      "source": [
        "def get_description_from_card(card):\n",
        "  card_description_element = card.find('p', class_ = 'card-description')\n",
        "  return card_description_element.get_text()\n"
      ],
      "metadata": {
        "id": "qYON0e_9qlZ7"
      },
      "execution_count": 12,
      "outputs": []
    },
    {
      "cell_type": "code",
      "source": [
        "get_description_from_card(spectacle_cards[1])"
      ],
      "metadata": {
        "colab": {
          "base_uri": "https://localhost:8080/",
          "height": 69
        },
        "id": "Kj3OfVNgqwpi",
        "outputId": "33a9e45f-c605-4c54-d7af-1c188c39aa48"
      },
      "execution_count": 14,
      "outputs": [
        {
          "output_type": "execute_result",
          "data": {
            "text/plain": [
              "'A partir d\\'un fait divers dramatique naît du théâtre dans du théâtre, une tragi-comédie qui suppose que la réalité dépasse notre entendement, que notre entendement ne repose pas forcément sur la raison. Sinon comment \"expliquer\" notre monde encore si violent et si chaotique?Attilio Sandro Palese, texte et mise en scène  '"
            ],
            "application/vnd.google.colaboratory.intrinsic+json": {
              "type": "string"
            }
          },
          "metadata": {},
          "execution_count": 14
        }
      ]
    },
    {
      "cell_type": "markdown",
      "source": [
        "It's fun that there is basically no semantic information, we have to get it out of the current layout"
      ],
      "metadata": {
        "id": "mP9EkLh9rn4k"
      }
    },
    {
      "cell_type": "code",
      "source": [
        "def get_location_from_card(card):\n",
        "  location_element = card.find('p', class_ = 'card-text')\n",
        "  return location_element.get_text().strip()\n"
      ],
      "metadata": {
        "id": "-DF187tUrtF2"
      },
      "execution_count": 17,
      "outputs": []
    },
    {
      "cell_type": "code",
      "source": [
        "get_location_from_card(spectacle_cards[1])"
      ],
      "metadata": {
        "colab": {
          "base_uri": "https://localhost:8080/",
          "height": 35
        },
        "id": "J6uKkRsBr2Di",
        "outputId": "fd37698a-45cd-441d-f474-03bf6e60a8f0"
      },
      "execution_count": 19,
      "outputs": [
        {
          "output_type": "execute_result",
          "data": {
            "text/plain": [
              "'Théâtre Saint-Gervais, Genève'"
            ],
            "application/vnd.google.colaboratory.intrinsic+json": {
              "type": "string"
            }
          },
          "metadata": {},
          "execution_count": 19
        }
      ]
    },
    {
      "cell_type": "code",
      "source": [
        "def get_theme_from_card(card):\n",
        "  tags_element = card.find('ul', class_ = 'card-tags')\n",
        "  list_item_element = tags_element.find('li')\n",
        "  class_ = list_item_element['class']\n",
        "  return class_[0].replace('theme-', '')"
      ],
      "metadata": {
        "id": "t3r9zAEStH-H"
      },
      "execution_count": 24,
      "outputs": []
    },
    {
      "cell_type": "code",
      "source": [
        "get_theme_from_card(spectacle_cards[0])"
      ],
      "metadata": {
        "colab": {
          "base_uri": "https://localhost:8080/",
          "height": 35
        },
        "id": "1MEY0WDBtlqK",
        "outputId": "8d3fe8bb-b54d-4766-b019-cb6681f08c0d"
      },
      "execution_count": 25,
      "outputs": [
        {
          "output_type": "execute_result",
          "data": {
            "text/plain": [
              "'music'"
            ],
            "application/vnd.google.colaboratory.intrinsic+json": {
              "type": "string"
            }
          },
          "metadata": {},
          "execution_count": 25
        }
      ]
    },
    {
      "cell_type": "code",
      "source": [
        "def get_genres_from_card(card):\n",
        "  tags_element = card.find('ul', class_ = 'card-tags')\n",
        "  list_item_element = tags_element.find('li')\n",
        "  return list_item_element.get_text().strip().split(' | ')"
      ],
      "metadata": {
        "id": "V_C57ij7t8vB"
      },
      "execution_count": 31,
      "outputs": []
    },
    {
      "cell_type": "code",
      "source": [
        "get_genres_from_card(spectacle_cards[4])"
      ],
      "metadata": {
        "colab": {
          "base_uri": "https://localhost:8080/"
        },
        "id": "llCo3qnOuD2x",
        "outputId": "345cf3fc-71e0-4baa-803c-18cd72445cdb"
      },
      "execution_count": 32,
      "outputs": [
        {
          "output_type": "execute_result",
          "data": {
            "text/plain": [
              "['Opéra / Opérette', 'humour - stand-up']"
            ]
          },
          "metadata": {},
          "execution_count": 32
        }
      ]
    },
    {
      "cell_type": "markdown",
      "source": [
        "For easily checking what is happening, create a dataclass holding that info."
      ],
      "metadata": {
        "id": "7lf-MxQyv1Jt"
      }
    },
    {
      "cell_type": "code",
      "source": [
        "from dataclasses import dataclass\n",
        "from typing import List\n",
        "\n",
        "@dataclass\n",
        "class Spectacle:\n",
        "  date: 'typing.Any'\n",
        "  title: str\n",
        "  description: str\n",
        "  location: str\n",
        "  theme: str\n",
        "  genres: List[str]\n"
      ],
      "metadata": {
        "id": "guAUjFydv5Lu"
      },
      "execution_count": 36,
      "outputs": []
    },
    {
      "cell_type": "code",
      "source": [
        "def get_spectacle_from_card(card):\n",
        "  return Spectacle(get_datetime_from_card(card), get_title_from_card(card), get_description_from_card(card),\n",
        "                   get_location_from_card(card), get_theme_from_card(card),\n",
        "                   get_genres_from_card(card))"
      ],
      "metadata": {
        "id": "u_7VfhIxw2i1"
      },
      "execution_count": 37,
      "outputs": []
    },
    {
      "cell_type": "code",
      "source": [
        "spectacles = [get_spectacle_from_card(card) for card in spectacle_cards]"
      ],
      "metadata": {
        "id": "1JtPTj19xH9z"
      },
      "execution_count": 39,
      "outputs": []
    }
  ],
  "metadata": {
    "language_info": {
      "name": "python"
    },
    "colab": {
      "provenance": [],
      "include_colab_link": true
    },
    "kernelspec": {
      "name": "python3",
      "display_name": "Python 3"
    }
  },
  "nbformat": 4,
  "nbformat_minor": 0
}