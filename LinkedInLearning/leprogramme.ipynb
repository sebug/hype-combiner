{
  "cells": [
    {
      "cell_type": "markdown",
      "metadata": {
        "id": "view-in-github",
        "colab_type": "text"
      },
      "source": [
        "<a href=\"https://colab.research.google.com/github/sebug/hype-combiner/blob/main/LinkedInLearning/leprogramme.ipynb\" target=\"_parent\"><img src=\"https://colab.research.google.com/assets/colab-badge.svg\" alt=\"Open In Colab\"/></a>"
      ]
    },
    {
      "cell_type": "markdown",
      "source": [
        "# The Challenge\n",
        "Have a look at [Le Programme](https://leprogramme.ch/) - this is an events agenda for Geneva. We want to query it using natural language. The idea is to construct the search URL, and let you go there, but only if we constructed something valid. We can double check the combination between events returned and search query by filtering the full list as well - listing the events on the main page that match, and then finding a search clause that gives the most similar results.\n",
        "\n",
        "I don't know whether this works yet, and will be exploring a lot."
      ],
      "metadata": {
        "id": "ufC46UFeLvqB"
      }
    },
    {
      "cell_type": "markdown",
      "source": [
        "The first step is to determine the current week of the year. We use this to get the events we will train on."
      ],
      "metadata": {
        "id": "UoFgAXY1OrLF"
      }
    },
    {
      "cell_type": "code",
      "source": [
        "import datetime\n",
        "current_week = datetime.date.today().isocalendar().week\n",
        "current_year = datetime.date.today().isocalendar().year\n",
        "current_week_url = 'https://leprogramme.ch/agenda-culturel-de-la-semaine/Vaud/' + str(current_year) + '/' + str(current_week)\n",
        "current_week_url"
      ],
      "metadata": {
        "id": "bIMjC0JrPF12",
        "outputId": "03dced31-51fb-4d28-d88a-18c4ef9c2b5d",
        "colab": {
          "base_uri": "https://localhost:8080/",
          "height": 35
        }
      },
      "execution_count": 3,
      "outputs": [
        {
          "output_type": "execute_result",
          "data": {
            "text/plain": [
              "'https://leprogramme.ch/agenda-culturel-de-la-semaine/Vaud/2024/19'"
            ],
            "application/vnd.google.colaboratory.intrinsic+json": {
              "type": "string"
            }
          },
          "metadata": {},
          "execution_count": 3
        }
      ]
    },
    {
      "cell_type": "markdown",
      "source": [
        "We will need beautifulsoup to analyze the page content"
      ],
      "metadata": {
        "id": "DIDmiX63P96a"
      }
    },
    {
      "cell_type": "code",
      "source": [
        "!pip install beautifulsoup4"
      ],
      "metadata": {
        "id": "RU_UXV4ZOpm1"
      },
      "execution_count": null,
      "outputs": []
    },
    {
      "cell_type": "code",
      "execution_count": null,
      "metadata": {
        "id": "UP0kb02XjuVs",
        "outputId": "75f62811-ecbd-4f9b-ecb3-b78b47ee4aba",
        "colab": {
          "base_uri": "https://localhost:8080/"
        }
      },
      "outputs": [
        {
          "output_type": "stream",
          "name": "stdout",
          "text": [
            "Test content\n"
          ]
        }
      ],
      "source": [
        "print(\"Test content\")"
      ]
    }
  ],
  "metadata": {
    "language_info": {
      "name": "python"
    },
    "colab": {
      "provenance": [],
      "include_colab_link": true
    },
    "kernelspec": {
      "name": "python3",
      "display_name": "Python 3"
    }
  },
  "nbformat": 4,
  "nbformat_minor": 0
}